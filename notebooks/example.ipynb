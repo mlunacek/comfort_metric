{
 "cells": [
  {
   "cell_type": "markdown",
   "metadata": {},
   "source": [
    "# Pandas Reshaping "
   ]
  },
  {
   "cell_type": "code",
   "execution_count": 178,
   "metadata": {
    "collapsed": true
   },
   "outputs": [],
   "source": [
    "%matplotlib inline\n",
    "import pandas as pd\n",
    "import glob\n",
    "import datetime\n",
    "import matplotlib.pyplot as plt\n",
    "import numpy as np\n",
    "\n",
    "plt.style.use(['seaborn-poster', 'seaborn-white'])"
   ]
  },
  {
   "cell_type": "markdown",
   "metadata": {},
   "source": [
    "## Vermont project"
   ]
  },
  {
   "cell_type": "markdown",
   "metadata": {},
   "source": [
    "### Characteristic\n",
    "\n",
    "<hr>\n",
    "\n",
    "Two feeders\n",
    "\n",
    "Two seasons\n",
    "\n",
    "1000 Waterheaters\n",
    "\n",
    "Several control algorithms\n",
    "\n",
    "Sometimes solar and batteries... \n",
    "\n",
    "**Many simulations**"
   ]
  },
  {
   "cell_type": "markdown",
   "metadata": {},
   "source": [
    "### Questions\n",
    "\n",
    "<hr>\n",
    "\n",
    "What happends to the peak load?\n",
    "\n",
    "What happends to the voltage?\n",
    "\n",
    "What happends to the comfort of the customer?"
   ]
  },
  {
   "cell_type": "markdown",
   "metadata": {},
   "source": [
    "## The comfort data "
   ]
  },
  {
   "cell_type": "markdown",
   "metadata": {},
   "source": [
    "Original files live on peregrine\n",
    "\n",
    "1 minute resolution for 14 days\n",
    "\n",
    "One file per attribute (e.g. flow rate, water temperature)\n",
    "\n",
    "This dataset is a collection of events where:\n",
    "\n",
    "1. flow rate: **positive demand** (demand > 0) and **shower demand** (demand > 0.4)\n",
    "2. temperature was below **110** and **105**\n",
    "\n",
    "We use a `shift` value from the peak of a particular days to make the results align.\n",
    "\n",
    "<br>\n",
    "\n",
    "\n",
    "*Collected into a standard form for each simulation and concatenated into a single file*\n",
    "\n",
    "\n",
    "<br>"
   ]
  },
  {
   "cell_type": "markdown",
   "metadata": {},
   "source": [
    "The data"
   ]
  },
  {
   "cell_type": "code",
   "execution_count": 34,
   "metadata": {
    "collapsed": false
   },
   "outputs": [
    {
     "data": {
      "text/plain": [
       "(510680, 14)"
      ]
     },
     "execution_count": 34,
     "metadata": {},
     "output_type": "execute_result"
    }
   ],
   "source": [
    "df = pd.read_csv(\"data/comfort_data.csv\")\n",
    "\n",
    "# limit the data a bit...\n",
    "qry = [\"solar==0\",\n",
    "       \"days==14\",\n",
    "       \"strategy in ['no_control', 'smooth', 'single_bucket']\"]\n",
    "\n",
    "df = df.query(\" and \".join(qry))\n",
    "df.timestamp = pd.to_datetime(df.timestamp)\n",
    "df.shape"
   ]
  },
  {
   "cell_type": "code",
   "execution_count": 35,
   "metadata": {
    "collapsed": false
   },
   "outputs": [
    {
     "data": {
      "text/html": [
       "<div>\n",
       "<table border=\"1\" class=\"dataframe\">\n",
       "  <thead>\n",
       "    <tr style=\"text-align: right;\">\n",
       "      <th></th>\n",
       "      <th>timestamp</th>\n",
       "      <th>name</th>\n",
       "      <th>value</th>\n",
       "      <th>attribute</th>\n",
       "      <th>feeder</th>\n",
       "      <th>solar</th>\n",
       "      <th>num_houses</th>\n",
       "      <th>season</th>\n",
       "      <th>strategy</th>\n",
       "      <th>control</th>\n",
       "      <th>days</th>\n",
       "      <th>shift</th>\n",
       "      <th>day</th>\n",
       "      <th>month</th>\n",
       "    </tr>\n",
       "  </thead>\n",
       "  <tbody>\n",
       "    <tr>\n",
       "      <th>0</th>\n",
       "      <td>2013-08-05 06:40:00</td>\n",
       "      <td>zmq_waterheater_427</td>\n",
       "      <td>104.505</td>\n",
       "      <td>shower demand 105</td>\n",
       "      <td>one</td>\n",
       "      <td>0</td>\n",
       "      <td>1000</td>\n",
       "      <td>summer</td>\n",
       "      <td>no_control</td>\n",
       "      <td>0</td>\n",
       "      <td>14</td>\n",
       "      <td>-9.333333</td>\n",
       "      <td>5</td>\n",
       "      <td>8</td>\n",
       "    </tr>\n",
       "    <tr>\n",
       "      <th>1</th>\n",
       "      <td>2013-08-05 06:41:00</td>\n",
       "      <td>zmq_waterheater_427</td>\n",
       "      <td>103.360</td>\n",
       "      <td>shower demand 105</td>\n",
       "      <td>one</td>\n",
       "      <td>0</td>\n",
       "      <td>1000</td>\n",
       "      <td>summer</td>\n",
       "      <td>no_control</td>\n",
       "      <td>0</td>\n",
       "      <td>14</td>\n",
       "      <td>-9.316667</td>\n",
       "      <td>5</td>\n",
       "      <td>8</td>\n",
       "    </tr>\n",
       "    <tr>\n",
       "      <th>2</th>\n",
       "      <td>2013-08-05 06:42:00</td>\n",
       "      <td>zmq_waterheater_427</td>\n",
       "      <td>102.255</td>\n",
       "      <td>shower demand 105</td>\n",
       "      <td>one</td>\n",
       "      <td>0</td>\n",
       "      <td>1000</td>\n",
       "      <td>summer</td>\n",
       "      <td>no_control</td>\n",
       "      <td>0</td>\n",
       "      <td>14</td>\n",
       "      <td>-9.300000</td>\n",
       "      <td>5</td>\n",
       "      <td>8</td>\n",
       "    </tr>\n",
       "    <tr>\n",
       "      <th>3</th>\n",
       "      <td>2013-08-05 06:43:00</td>\n",
       "      <td>zmq_waterheater_427</td>\n",
       "      <td>101.188</td>\n",
       "      <td>shower demand 105</td>\n",
       "      <td>one</td>\n",
       "      <td>0</td>\n",
       "      <td>1000</td>\n",
       "      <td>summer</td>\n",
       "      <td>no_control</td>\n",
       "      <td>0</td>\n",
       "      <td>14</td>\n",
       "      <td>-9.283333</td>\n",
       "      <td>5</td>\n",
       "      <td>8</td>\n",
       "    </tr>\n",
       "    <tr>\n",
       "      <th>4</th>\n",
       "      <td>2013-08-05 06:44:00</td>\n",
       "      <td>zmq_waterheater_427</td>\n",
       "      <td>100.158</td>\n",
       "      <td>shower demand 105</td>\n",
       "      <td>one</td>\n",
       "      <td>0</td>\n",
       "      <td>1000</td>\n",
       "      <td>summer</td>\n",
       "      <td>no_control</td>\n",
       "      <td>0</td>\n",
       "      <td>14</td>\n",
       "      <td>-9.266667</td>\n",
       "      <td>5</td>\n",
       "      <td>8</td>\n",
       "    </tr>\n",
       "  </tbody>\n",
       "</table>\n",
       "</div>"
      ],
      "text/plain": [
       "            timestamp                 name    value          attribute feeder  \\\n",
       "0 2013-08-05 06:40:00  zmq_waterheater_427  104.505  shower demand 105    one   \n",
       "1 2013-08-05 06:41:00  zmq_waterheater_427  103.360  shower demand 105    one   \n",
       "2 2013-08-05 06:42:00  zmq_waterheater_427  102.255  shower demand 105    one   \n",
       "3 2013-08-05 06:43:00  zmq_waterheater_427  101.188  shower demand 105    one   \n",
       "4 2013-08-05 06:44:00  zmq_waterheater_427  100.158  shower demand 105    one   \n",
       "\n",
       "   solar  num_houses  season    strategy  control  days     shift  day  month  \n",
       "0      0        1000  summer  no_control        0    14 -9.333333    5      8  \n",
       "1      0        1000  summer  no_control        0    14 -9.316667    5      8  \n",
       "2      0        1000  summer  no_control        0    14 -9.300000    5      8  \n",
       "3      0        1000  summer  no_control        0    14 -9.283333    5      8  \n",
       "4      0        1000  summer  no_control        0    14 -9.266667    5      8  "
      ]
     },
     "execution_count": 35,
     "metadata": {},
     "output_type": "execute_result"
    }
   ],
   "source": [
    "df.head()"
   ]
  },
  {
   "cell_type": "code",
   "execution_count": 33,
   "metadata": {
    "collapsed": false
   },
   "outputs": [
    {
     "data": {
      "text/plain": [
       "(903, 2, 2, 3, 5)"
      ]
     },
     "execution_count": 33,
     "metadata": {},
     "output_type": "execute_result"
    }
   ],
   "source": [
    "(len(df.name.unique()), \n",
    "len(df.feeder.unique()), \n",
    "len(df.season.unique()),\n",
    "len(df.strategy.unique()), \n",
    "len(df.control.unique()))"
   ]
  },
  {
   "cell_type": "markdown",
   "metadata": {},
   "source": [
    "##  Reshaping with Pandas"
   ]
  },
  {
   "cell_type": "markdown",
   "metadata": {},
   "source": [
    "`groupby`\n",
    "\n",
    "`pivot_table`\n",
    "\n",
    "`melt`\n",
    "\n",
    "`applying`"
   ]
  },
  {
   "cell_type": "markdown",
   "metadata": {},
   "source": [
    "Warm up with a single simulation... cuts down on the details."
   ]
  },
  {
   "cell_type": "code",
   "execution_count": 139,
   "metadata": {
    "collapsed": false
   },
   "outputs": [
    {
     "data": {
      "text/plain": [
       "(2049, 14)"
      ]
     },
     "execution_count": 139,
     "metadata": {},
     "output_type": "execute_result"
    }
   ],
   "source": [
    "qry = [\"feeder=='one'\",\n",
    "       \"season=='summer'\",\n",
    "       \"strategy=='no_control'\",\n",
    "       \"control==0\",\n",
    "       \"attribute=='shower demand 110'\"]\n",
    "\n",
    "tmp = df.query(\" and \".join(qry))\n",
    "tmp.shape"
   ]
  },
  {
   "cell_type": "markdown",
   "metadata": {},
   "source": [
    "How many unique customers are impacted over the period?"
   ]
  },
  {
   "cell_type": "code",
   "execution_count": 40,
   "metadata": {
    "collapsed": false
   },
   "outputs": [
    {
     "data": {
      "text/plain": [
       "253"
      ]
     },
     "execution_count": 40,
     "metadata": {},
     "output_type": "execute_result"
    }
   ],
   "source": [
    "len(tmp.name.unique())"
   ]
  },
  {
   "cell_type": "markdown",
   "metadata": {},
   "source": [
    "How long is the period?"
   ]
  },
  {
   "cell_type": "code",
   "execution_count": 44,
   "metadata": {
    "collapsed": false
   },
   "outputs": [
    {
     "data": {
      "text/plain": [
       "Timedelta('13 days 22:38:00')"
      ]
     },
     "execution_count": 44,
     "metadata": {},
     "output_type": "execute_result"
    }
   ],
   "source": [
    "tmp.timestamp.max() - tmp.timestamp.min()"
   ]
  },
  {
   "cell_type": "markdown",
   "metadata": {},
   "source": [
    "How many unique customer impacted per day?"
   ]
  },
  {
   "cell_type": "markdown",
   "metadata": {},
   "source": [
    "#### `groupby`"
   ]
  },
  {
   "cell_type": "code",
   "execution_count": 46,
   "metadata": {
    "collapsed": false
   },
   "outputs": [
    {
     "data": {
      "text/plain": [
       "day  name               \n",
       "1    zmq_waterheater_19      1\n",
       "     zmq_waterheater_194    12\n",
       "     zmq_waterheater_288    14\n",
       "     zmq_waterheater_393     4\n",
       "     zmq_waterheater_411     1\n",
       "Name: value, dtype: int64"
      ]
     },
     "execution_count": 46,
     "metadata": {},
     "output_type": "execute_result"
    }
   ],
   "source": [
    "grp = tmp.groupby(['day', 'name'])['value'].count()\n",
    "grp.head()"
   ]
  },
  {
   "cell_type": "code",
   "execution_count": 47,
   "metadata": {
    "collapsed": false
   },
   "outputs": [
    {
     "data": {
      "text/plain": [
       "day\n",
       "1     30\n",
       "2     24\n",
       "3     39\n",
       "4     38\n",
       "5     35\n",
       "6     27\n",
       "7     38\n",
       "8     19\n",
       "9      3\n",
       "26    37\n",
       "27    37\n",
       "28    34\n",
       "29    23\n",
       "30    35\n",
       "31    26\n",
       "Name: name, dtype: int64"
      ]
     },
     "execution_count": 47,
     "metadata": {},
     "output_type": "execute_result"
    }
   ],
   "source": [
    "grp.reset_index().groupby(['day'])['name'].count()"
   ]
  },
  {
   "cell_type": "code",
   "execution_count": 68,
   "metadata": {
    "collapsed": false
   },
   "outputs": [
    {
     "data": {
      "text/plain": [
       "<matplotlib.axes._subplots.AxesSubplot at 0x10ff0d550>"
      ]
     },
     "execution_count": 68,
     "metadata": {},
     "output_type": "execute_result"
    },
    {
     "data": {
      "image/png": "[encoded data removed]",
      "text/plain": [
       "<matplotlib.figure.Figure at 0x10f94fed0>"
      ]
     },
     "metadata": {},
     "output_type": "display_data"
    }
   ],
   "source": [
    "grp.reset_index().groupby(['day'])['name'].count().plot(kind='barh', figsize=(8, 5))"
   ]
  },
  {
   "cell_type": "code",
   "execution_count": 49,
   "metadata": {
    "collapsed": false
   },
   "outputs": [
    {
     "data": {
      "text/plain": [
       "29.666666666666668"
      ]
     },
     "execution_count": 49,
     "metadata": {},
     "output_type": "execute_result"
    }
   ],
   "source": [
    "grp.reset_index().groupby(['day'])['name'].count().mean()"
   ]
  },
  {
   "cell_type": "markdown",
   "metadata": {},
   "source": [
    "####  `pivot_table`"
   ]
  },
  {
   "cell_type": "code",
   "execution_count": 51,
   "metadata": {
    "collapsed": false
   },
   "outputs": [
    {
     "data": {
      "text/html": [
       "<div>\n",
       "<table border=\"1\" class=\"dataframe\">\n",
       "  <thead>\n",
       "    <tr style=\"text-align: right;\">\n",
       "      <th>name</th>\n",
       "      <th>zmq_waterheater_0</th>\n",
       "      <th>zmq_waterheater_113</th>\n",
       "      <th>zmq_waterheater_122</th>\n",
       "      <th>zmq_waterheater_143</th>\n",
       "      <th>zmq_waterheater_146</th>\n",
       "      <th>zmq_waterheater_148</th>\n",
       "      <th>zmq_waterheater_158</th>\n",
       "      <th>zmq_waterheater_163</th>\n",
       "      <th>zmq_waterheater_167</th>\n",
       "      <th>zmq_waterheater_170</th>\n",
       "      <th>...</th>\n",
       "      <th>zmq_waterheater_972</th>\n",
       "      <th>zmq_waterheater_974</th>\n",
       "      <th>zmq_waterheater_975</th>\n",
       "      <th>zmq_waterheater_976</th>\n",
       "      <th>zmq_waterheater_977</th>\n",
       "      <th>zmq_waterheater_98</th>\n",
       "      <th>zmq_waterheater_984</th>\n",
       "      <th>zmq_waterheater_985</th>\n",
       "      <th>zmq_waterheater_986</th>\n",
       "      <th>zmq_waterheater_993</th>\n",
       "    </tr>\n",
       "    <tr>\n",
       "      <th>day</th>\n",
       "      <th></th>\n",
       "      <th></th>\n",
       "      <th></th>\n",
       "      <th></th>\n",
       "      <th></th>\n",
       "      <th></th>\n",
       "      <th></th>\n",
       "      <th></th>\n",
       "      <th></th>\n",
       "      <th></th>\n",
       "      <th></th>\n",
       "      <th></th>\n",
       "      <th></th>\n",
       "      <th></th>\n",
       "      <th></th>\n",
       "      <th></th>\n",
       "      <th></th>\n",
       "      <th></th>\n",
       "      <th></th>\n",
       "      <th></th>\n",
       "      <th></th>\n",
       "    </tr>\n",
       "  </thead>\n",
       "  <tbody>\n",
       "    <tr>\n",
       "      <th>1</th>\n",
       "      <td>NaN</td>\n",
       "      <td>NaN</td>\n",
       "      <td>NaN</td>\n",
       "      <td>NaN</td>\n",
       "      <td>NaN</td>\n",
       "      <td>NaN</td>\n",
       "      <td>NaN</td>\n",
       "      <td>NaN</td>\n",
       "      <td>NaN</td>\n",
       "      <td>NaN</td>\n",
       "      <td>...</td>\n",
       "      <td>6.0</td>\n",
       "      <td>NaN</td>\n",
       "      <td>NaN</td>\n",
       "      <td>NaN</td>\n",
       "      <td>NaN</td>\n",
       "      <td>13.0</td>\n",
       "      <td>NaN</td>\n",
       "      <td>NaN</td>\n",
       "      <td>NaN</td>\n",
       "      <td>6.0</td>\n",
       "    </tr>\n",
       "    <tr>\n",
       "      <th>2</th>\n",
       "      <td>NaN</td>\n",
       "      <td>NaN</td>\n",
       "      <td>NaN</td>\n",
       "      <td>2.0</td>\n",
       "      <td>NaN</td>\n",
       "      <td>NaN</td>\n",
       "      <td>NaN</td>\n",
       "      <td>NaN</td>\n",
       "      <td>NaN</td>\n",
       "      <td>NaN</td>\n",
       "      <td>...</td>\n",
       "      <td>NaN</td>\n",
       "      <td>NaN</td>\n",
       "      <td>NaN</td>\n",
       "      <td>NaN</td>\n",
       "      <td>NaN</td>\n",
       "      <td>NaN</td>\n",
       "      <td>NaN</td>\n",
       "      <td>NaN</td>\n",
       "      <td>NaN</td>\n",
       "      <td>NaN</td>\n",
       "    </tr>\n",
       "    <tr>\n",
       "      <th>3</th>\n",
       "      <td>NaN</td>\n",
       "      <td>NaN</td>\n",
       "      <td>2.0</td>\n",
       "      <td>NaN</td>\n",
       "      <td>NaN</td>\n",
       "      <td>NaN</td>\n",
       "      <td>NaN</td>\n",
       "      <td>NaN</td>\n",
       "      <td>NaN</td>\n",
       "      <td>NaN</td>\n",
       "      <td>...</td>\n",
       "      <td>NaN</td>\n",
       "      <td>NaN</td>\n",
       "      <td>NaN</td>\n",
       "      <td>NaN</td>\n",
       "      <td>NaN</td>\n",
       "      <td>NaN</td>\n",
       "      <td>NaN</td>\n",
       "      <td>NaN</td>\n",
       "      <td>NaN</td>\n",
       "      <td>NaN</td>\n",
       "    </tr>\n",
       "    <tr>\n",
       "      <th>4</th>\n",
       "      <td>NaN</td>\n",
       "      <td>NaN</td>\n",
       "      <td>NaN</td>\n",
       "      <td>NaN</td>\n",
       "      <td>5.0</td>\n",
       "      <td>NaN</td>\n",
       "      <td>NaN</td>\n",
       "      <td>NaN</td>\n",
       "      <td>NaN</td>\n",
       "      <td>2.0</td>\n",
       "      <td>...</td>\n",
       "      <td>4.0</td>\n",
       "      <td>NaN</td>\n",
       "      <td>NaN</td>\n",
       "      <td>NaN</td>\n",
       "      <td>NaN</td>\n",
       "      <td>NaN</td>\n",
       "      <td>NaN</td>\n",
       "      <td>NaN</td>\n",
       "      <td>NaN</td>\n",
       "      <td>NaN</td>\n",
       "    </tr>\n",
       "    <tr>\n",
       "      <th>5</th>\n",
       "      <td>NaN</td>\n",
       "      <td>2.0</td>\n",
       "      <td>NaN</td>\n",
       "      <td>NaN</td>\n",
       "      <td>NaN</td>\n",
       "      <td>1.0</td>\n",
       "      <td>NaN</td>\n",
       "      <td>NaN</td>\n",
       "      <td>NaN</td>\n",
       "      <td>NaN</td>\n",
       "      <td>...</td>\n",
       "      <td>NaN</td>\n",
       "      <td>NaN</td>\n",
       "      <td>2.0</td>\n",
       "      <td>2.0</td>\n",
       "      <td>NaN</td>\n",
       "      <td>NaN</td>\n",
       "      <td>NaN</td>\n",
       "      <td>NaN</td>\n",
       "      <td>NaN</td>\n",
       "      <td>NaN</td>\n",
       "    </tr>\n",
       "  </tbody>\n",
       "</table>\n",
       "<p>5 rows × 253 columns</p>\n",
       "</div>"
      ],
      "text/plain": [
       "name  zmq_waterheater_0  zmq_waterheater_113  zmq_waterheater_122  \\\n",
       "day                                                                 \n",
       "1                   NaN                  NaN                  NaN   \n",
       "2                   NaN                  NaN                  NaN   \n",
       "3                   NaN                  NaN                  2.0   \n",
       "4                   NaN                  NaN                  NaN   \n",
       "5                   NaN                  2.0                  NaN   \n",
       "\n",
       "name  zmq_waterheater_143  zmq_waterheater_146  zmq_waterheater_148  \\\n",
       "day                                                                   \n",
       "1                     NaN                  NaN                  NaN   \n",
       "2                     2.0                  NaN                  NaN   \n",
       "3                     NaN                  NaN                  NaN   \n",
       "4                     NaN                  5.0                  NaN   \n",
       "5                     NaN                  NaN                  1.0   \n",
       "\n",
       "name  zmq_waterheater_158  zmq_waterheater_163  zmq_waterheater_167  \\\n",
       "day                                                                   \n",
       "1                     NaN                  NaN                  NaN   \n",
       "2                     NaN                  NaN                  NaN   \n",
       "3                     NaN                  NaN                  NaN   \n",
       "4                     NaN                  NaN                  NaN   \n",
       "5                     NaN                  NaN                  NaN   \n",
       "\n",
       "name  zmq_waterheater_170         ...           zmq_waterheater_972  \\\n",
       "day                               ...                                 \n",
       "1                     NaN         ...                           6.0   \n",
       "2                     NaN         ...                           NaN   \n",
       "3                     NaN         ...                           NaN   \n",
       "4                     2.0         ...                           4.0   \n",
       "5                     NaN         ...                           NaN   \n",
       "\n",
       "name  zmq_waterheater_974  zmq_waterheater_975  zmq_waterheater_976  \\\n",
       "day                                                                   \n",
       "1                     NaN                  NaN                  NaN   \n",
       "2                     NaN                  NaN                  NaN   \n",
       "3                     NaN                  NaN                  NaN   \n",
       "4                     NaN                  NaN                  NaN   \n",
       "5                     NaN                  2.0                  2.0   \n",
       "\n",
       "name  zmq_waterheater_977  zmq_waterheater_98  zmq_waterheater_984  \\\n",
       "day                                                                  \n",
       "1                     NaN                13.0                  NaN   \n",
       "2                     NaN                 NaN                  NaN   \n",
       "3                     NaN                 NaN                  NaN   \n",
       "4                     NaN                 NaN                  NaN   \n",
       "5                     NaN                 NaN                  NaN   \n",
       "\n",
       "name  zmq_waterheater_985  zmq_waterheater_986  zmq_waterheater_993  \n",
       "day                                                                  \n",
       "1                     NaN                  NaN                  6.0  \n",
       "2                     NaN                  NaN                  NaN  \n",
       "3                     NaN                  NaN                  NaN  \n",
       "4                     NaN                  NaN                  NaN  \n",
       "5                     NaN                  NaN                  NaN  \n",
       "\n",
       "[5 rows x 253 columns]"
      ]
     },
     "execution_count": 51,
     "metadata": {},
     "output_type": "execute_result"
    }
   ],
   "source": [
    "piv = tmp.pivot_table(index='day', \n",
    "                      columns='name', \n",
    "                      values='value', \n",
    "                      aggfunc='count')\n",
    "piv.head()"
   ]
  },
  {
   "cell_type": "markdown",
   "metadata": {},
   "source": [
    "I count because I want unique customers not total events."
   ]
  },
  {
   "cell_type": "code",
   "execution_count": 67,
   "metadata": {
    "collapsed": false
   },
   "outputs": [
    {
     "data": {
      "text/plain": [
       "<matplotlib.axes._subplots.AxesSubplot at 0x10f949910>"
      ]
     },
     "execution_count": 67,
     "metadata": {},
     "output_type": "execute_result"
    },
    {
     "data": {
      "image/png": "[encoded data removed]",
      "text/plain": [
       "<matplotlib.figure.Figure at 0x10f94f5d0>"
      ]
     },
     "metadata": {},
     "output_type": "display_data"
    }
   ],
   "source": [
    "piv.count(axis=1).plot(kind='barh', figsize=(8, 5))"
   ]
  },
  {
   "cell_type": "markdown",
   "metadata": {},
   "source": [
    "A customer was impacted more than once."
   ]
  },
  {
   "cell_type": "code",
   "execution_count": 61,
   "metadata": {
    "collapsed": false
   },
   "outputs": [
    {
     "data": {
      "text/plain": [
       "445"
      ]
     },
     "execution_count": 61,
     "metadata": {},
     "output_type": "execute_result"
    }
   ],
   "source": [
    "grp.reset_index().groupby(['day'])['name'].count().sum()"
   ]
  },
  {
   "cell_type": "markdown",
   "metadata": {},
   "source": [
    "How many days did each customer have at least one event?"
   ]
  },
  {
   "cell_type": "code",
   "execution_count": 64,
   "metadata": {
    "collapsed": false
   },
   "outputs": [
    {
     "data": {
      "text/plain": [
       "name\n",
       "zmq_waterheater_0      1\n",
       "zmq_waterheater_113    1\n",
       "zmq_waterheater_122    1\n",
       "zmq_waterheater_143    2\n",
       "zmq_waterheater_146    2\n",
       "Name: day, dtype: int64"
      ]
     },
     "execution_count": 64,
     "metadata": {},
     "output_type": "execute_result"
    }
   ],
   "source": [
    "grp.reset_index().groupby('name')['day'].count().head()"
   ]
  },
  {
   "cell_type": "code",
   "execution_count": 66,
   "metadata": {
    "collapsed": false
   },
   "outputs": [
    {
     "data": {
      "text/plain": [
       "<matplotlib.axes._subplots.AxesSubplot at 0x10e65efd0>"
      ]
     },
     "execution_count": 66,
     "metadata": {},
     "output_type": "execute_result"
    },
    {
     "data": {
      "image/png": "[encoded data removed]",
      "text/plain": [
       "<matplotlib.figure.Figure at 0x10e66e7d0>"
      ]
     },
     "metadata": {},
     "output_type": "display_data"
    }
   ],
   "source": [
    "grp.reset_index().groupby('name')['day'].count().plot(kind='hist', figsize=(8, 5))"
   ]
  },
  {
   "cell_type": "code",
   "execution_count": 273,
   "metadata": {
    "collapsed": false
   },
   "outputs": [
    {
     "data": {
      "text/plain": [
       "445"
      ]
     },
     "execution_count": 273,
     "metadata": {},
     "output_type": "execute_result"
    }
   ],
   "source": [
    "grp.groupby('name')['day'].count().sum()"
   ]
  },
  {
   "cell_type": "markdown",
   "metadata": {},
   "source": [
    "How many events? "
   ]
  },
  {
   "cell_type": "code",
   "execution_count": 69,
   "metadata": {
    "collapsed": false
   },
   "outputs": [
    {
     "data": {
      "text/plain": [
       "(2049, 14)"
      ]
     },
     "execution_count": 69,
     "metadata": {},
     "output_type": "execute_result"
    }
   ],
   "source": [
    "tmp.shape"
   ]
  },
  {
   "cell_type": "markdown",
   "metadata": {},
   "source": [
    "Events per customer?"
   ]
  },
  {
   "cell_type": "code",
   "execution_count": 73,
   "metadata": {
    "collapsed": false
   },
   "outputs": [
    {
     "data": {
      "text/plain": [
       "<matplotlib.axes._subplots.AxesSubplot at 0x110b67450>"
      ]
     },
     "execution_count": 73,
     "metadata": {},
     "output_type": "execute_result"
    },
    {
     "data": {
      "image/png": "[encoded data removed]",
      "text/plain": [
       "<matplotlib.figure.Figure at 0x110bc3350>"
      ]
     },
     "metadata": {},
     "output_type": "display_data"
    }
   ],
   "source": [
    "tmp.groupby(['name'])['value'].count().plot(kind='hist', figsize=(8, 5), bins=50)"
   ]
  },
  {
   "cell_type": "markdown",
   "metadata": {},
   "source": [
    "Check on the number of events?"
   ]
  },
  {
   "cell_type": "code",
   "execution_count": 75,
   "metadata": {
    "collapsed": false
   },
   "outputs": [
    {
     "data": {
      "text/plain": [
       "2049"
      ]
     },
     "execution_count": 75,
     "metadata": {},
     "output_type": "execute_result"
    }
   ],
   "source": [
    "tmp.groupby(['name'])['value'].count().sum()"
   ]
  },
  {
   "cell_type": "markdown",
   "metadata": {},
   "source": [
    "## Question\n",
    "\n",
    "### What is the average % of customers impacted as a function of time?"
   ]
  },
  {
   "cell_type": "code",
   "execution_count": 82,
   "metadata": {
    "collapsed": false
   },
   "outputs": [
    {
     "data": {
      "text/plain": [
       "shift       day  name               \n",
       "-12.933333  7    zmq_waterheater_219    1\n",
       "-12.916667  7    zmq_waterheater_219    1\n",
       "-11.366667  26   zmq_waterheater_423    1\n",
       "-11.350000  31   zmq_waterheater_908    1\n",
       "-11.333333  31   zmq_waterheater_908    1\n",
       "Name: value, dtype: int64"
      ]
     },
     "execution_count": 82,
     "metadata": {},
     "output_type": "execute_result"
    }
   ],
   "source": [
    "grp = tmp.groupby(['shift', 'day', 'name'])['value'].count()\n",
    "grp.head()"
   ]
  },
  {
   "cell_type": "code",
   "execution_count": 83,
   "metadata": {
    "collapsed": false
   },
   "outputs": [
    {
     "data": {
      "text/plain": [
       "shift       day\n",
       "-12.933333  7      1\n",
       "-12.916667  7      1\n",
       "-11.366667  26     1\n",
       "-11.350000  31     1\n",
       "-11.333333  31     1\n",
       "Name: value, dtype: int64"
      ]
     },
     "execution_count": 83,
     "metadata": {},
     "output_type": "execute_result"
    }
   ],
   "source": [
    "grp2 = grp.reset_index().reset_index().groupby(['shift', 'day'])['value'].sum()\n",
    "grp2.head()"
   ]
  },
  {
   "cell_type": "markdown",
   "metadata": {},
   "source": [
    "Make a pivot of the number of events per day (columns) as a function of shift (rows)"
   ]
  },
  {
   "cell_type": "code",
   "execution_count": 88,
   "metadata": {
    "collapsed": false
   },
   "outputs": [
    {
     "data": {
      "text/html": [
       "<div>\n",
       "<table border=\"1\" class=\"dataframe\">\n",
       "  <thead>\n",
       "    <tr style=\"text-align: right;\">\n",
       "      <th>day</th>\n",
       "      <th>1</th>\n",
       "      <th>2</th>\n",
       "      <th>3</th>\n",
       "      <th>4</th>\n",
       "      <th>5</th>\n",
       "      <th>6</th>\n",
       "      <th>7</th>\n",
       "      <th>8</th>\n",
       "      <th>9</th>\n",
       "      <th>26</th>\n",
       "      <th>27</th>\n",
       "      <th>28</th>\n",
       "      <th>29</th>\n",
       "      <th>30</th>\n",
       "      <th>31</th>\n",
       "    </tr>\n",
       "    <tr>\n",
       "      <th>shift</th>\n",
       "      <th></th>\n",
       "      <th></th>\n",
       "      <th></th>\n",
       "      <th></th>\n",
       "      <th></th>\n",
       "      <th></th>\n",
       "      <th></th>\n",
       "      <th></th>\n",
       "      <th></th>\n",
       "      <th></th>\n",
       "      <th></th>\n",
       "      <th></th>\n",
       "      <th></th>\n",
       "      <th></th>\n",
       "      <th></th>\n",
       "    </tr>\n",
       "  </thead>\n",
       "  <tbody>\n",
       "    <tr>\n",
       "      <th>-12.933333</th>\n",
       "      <td>0.0</td>\n",
       "      <td>0.0</td>\n",
       "      <td>0.0</td>\n",
       "      <td>0.0</td>\n",
       "      <td>0.0</td>\n",
       "      <td>0.0</td>\n",
       "      <td>1.0</td>\n",
       "      <td>0.0</td>\n",
       "      <td>0.0</td>\n",
       "      <td>0.0</td>\n",
       "      <td>0.0</td>\n",
       "      <td>0.0</td>\n",
       "      <td>0.0</td>\n",
       "      <td>0.0</td>\n",
       "      <td>0.0</td>\n",
       "    </tr>\n",
       "    <tr>\n",
       "      <th>-12.916667</th>\n",
       "      <td>0.0</td>\n",
       "      <td>0.0</td>\n",
       "      <td>0.0</td>\n",
       "      <td>0.0</td>\n",
       "      <td>0.0</td>\n",
       "      <td>0.0</td>\n",
       "      <td>1.0</td>\n",
       "      <td>0.0</td>\n",
       "      <td>0.0</td>\n",
       "      <td>0.0</td>\n",
       "      <td>0.0</td>\n",
       "      <td>0.0</td>\n",
       "      <td>0.0</td>\n",
       "      <td>0.0</td>\n",
       "      <td>0.0</td>\n",
       "    </tr>\n",
       "    <tr>\n",
       "      <th>-11.366667</th>\n",
       "      <td>0.0</td>\n",
       "      <td>0.0</td>\n",
       "      <td>0.0</td>\n",
       "      <td>0.0</td>\n",
       "      <td>0.0</td>\n",
       "      <td>0.0</td>\n",
       "      <td>0.0</td>\n",
       "      <td>0.0</td>\n",
       "      <td>0.0</td>\n",
       "      <td>1.0</td>\n",
       "      <td>0.0</td>\n",
       "      <td>0.0</td>\n",
       "      <td>0.0</td>\n",
       "      <td>0.0</td>\n",
       "      <td>0.0</td>\n",
       "    </tr>\n",
       "    <tr>\n",
       "      <th>-11.350000</th>\n",
       "      <td>0.0</td>\n",
       "      <td>0.0</td>\n",
       "      <td>0.0</td>\n",
       "      <td>0.0</td>\n",
       "      <td>0.0</td>\n",
       "      <td>0.0</td>\n",
       "      <td>0.0</td>\n",
       "      <td>0.0</td>\n",
       "      <td>0.0</td>\n",
       "      <td>0.0</td>\n",
       "      <td>0.0</td>\n",
       "      <td>0.0</td>\n",
       "      <td>0.0</td>\n",
       "      <td>0.0</td>\n",
       "      <td>1.0</td>\n",
       "    </tr>\n",
       "    <tr>\n",
       "      <th>-11.333333</th>\n",
       "      <td>0.0</td>\n",
       "      <td>0.0</td>\n",
       "      <td>0.0</td>\n",
       "      <td>0.0</td>\n",
       "      <td>0.0</td>\n",
       "      <td>0.0</td>\n",
       "      <td>0.0</td>\n",
       "      <td>0.0</td>\n",
       "      <td>0.0</td>\n",
       "      <td>0.0</td>\n",
       "      <td>0.0</td>\n",
       "      <td>0.0</td>\n",
       "      <td>0.0</td>\n",
       "      <td>0.0</td>\n",
       "      <td>1.0</td>\n",
       "    </tr>\n",
       "  </tbody>\n",
       "</table>\n",
       "</div>"
      ],
      "text/plain": [
       "day          1    2    3    4    5    6    7    8    9    26   27   28   29  \\\n",
       "shift                                                                         \n",
       "-12.933333  0.0  0.0  0.0  0.0  0.0  0.0  1.0  0.0  0.0  0.0  0.0  0.0  0.0   \n",
       "-12.916667  0.0  0.0  0.0  0.0  0.0  0.0  1.0  0.0  0.0  0.0  0.0  0.0  0.0   \n",
       "-11.366667  0.0  0.0  0.0  0.0  0.0  0.0  0.0  0.0  0.0  1.0  0.0  0.0  0.0   \n",
       "-11.350000  0.0  0.0  0.0  0.0  0.0  0.0  0.0  0.0  0.0  0.0  0.0  0.0  0.0   \n",
       "-11.333333  0.0  0.0  0.0  0.0  0.0  0.0  0.0  0.0  0.0  0.0  0.0  0.0  0.0   \n",
       "\n",
       "day          30   31  \n",
       "shift                 \n",
       "-12.933333  0.0  0.0  \n",
       "-12.916667  0.0  0.0  \n",
       "-11.366667  0.0  0.0  \n",
       "-11.350000  0.0  1.0  \n",
       "-11.333333  0.0  1.0  "
      ]
     },
     "execution_count": 88,
     "metadata": {},
     "output_type": "execute_result"
    }
   ],
   "source": [
    "piv = grp2.reset_index().pivot_table(index='shift', \n",
    "                                     columns='day', \n",
    "                                     values='value').fillna(0)\n",
    "piv.head()"
   ]
  },
  {
   "cell_type": "markdown",
   "metadata": {},
   "source": [
    "Check on the number of events."
   ]
  },
  {
   "cell_type": "code",
   "execution_count": 90,
   "metadata": {
    "collapsed": false
   },
   "outputs": [
    {
     "data": {
      "text/plain": [
       "2049.0"
      ]
     },
     "execution_count": 90,
     "metadata": {},
     "output_type": "execute_result"
    }
   ],
   "source": [
    "piv.sum().sum()"
   ]
  },
  {
   "cell_type": "markdown",
   "metadata": {},
   "source": [
    "Events per minute."
   ]
  },
  {
   "cell_type": "code",
   "execution_count": 92,
   "metadata": {
    "collapsed": false
   },
   "outputs": [
    {
     "data": {
      "text/plain": [
       "<matplotlib.axes._subplots.AxesSubplot at 0x111225650>"
      ]
     },
     "execution_count": 92,
     "metadata": {},
     "output_type": "execute_result"
    },
    {
     "data": {
      "image/png": "[encoded data removed]",
      "text/plain": [
       "<matplotlib.figure.Figure at 0x10ff6ea90>"
      ]
     },
     "metadata": {},
     "output_type": "display_data"
    }
   ],
   "source": [
    "piv.mean(axis=1).plot( figsize=(8, 5))"
   ]
  },
  {
   "cell_type": "markdown",
   "metadata": {},
   "source": [
    "####  What did we do?"
   ]
  },
  {
   "cell_type": "code",
   "execution_count": 125,
   "metadata": {
    "collapsed": false
   },
   "outputs": [
    {
     "data": {
      "text/plain": [
       "<matplotlib.axes._subplots.AxesSubplot at 0x112cdca50>"
      ]
     },
     "execution_count": 125,
     "metadata": {},
     "output_type": "execute_result"
    },
    {
     "data": {
      "image/png": "[encoded data removed]",
      "text/plain": [
       "<matplotlib.figure.Figure at 0x112a5b050>"
      ]
     },
     "metadata": {},
     "output_type": "display_data"
    }
   ],
   "source": [
    "final = (tmp.groupby(['shift', 'day', 'name'])['value'].count()\n",
    "            .reset_index().reset_index().groupby(['shift', 'day'])['value'].sum()\n",
    "            .reset_index().pivot_table(index='shift', \n",
    "                                       columns='day', \n",
    "                                       values='value').fillna(0)\n",
    "            .mean(axis=1)\n",
    ")\n",
    "\n",
    "final.plot( figsize=(8, 5))"
   ]
  },
  {
   "cell_type": "markdown",
   "metadata": {},
   "source": [
    "Using the multi-level pivot."
   ]
  },
  {
   "cell_type": "code",
   "execution_count": 126,
   "metadata": {
    "collapsed": false
   },
   "outputs": [
    {
     "data": {
      "text/html": [
       "<div>\n",
       "<table border=\"1\" class=\"dataframe\">\n",
       "  <thead>\n",
       "    <tr>\n",
       "      <th>day</th>\n",
       "      <th colspan=\"10\" halign=\"left\">1</th>\n",
       "      <th>...</th>\n",
       "      <th colspan=\"10\" halign=\"left\">31</th>\n",
       "    </tr>\n",
       "    <tr>\n",
       "      <th>name</th>\n",
       "      <th>zmq_waterheater_19</th>\n",
       "      <th>zmq_waterheater_194</th>\n",
       "      <th>zmq_waterheater_288</th>\n",
       "      <th>zmq_waterheater_393</th>\n",
       "      <th>zmq_waterheater_411</th>\n",
       "      <th>zmq_waterheater_468</th>\n",
       "      <th>zmq_waterheater_5</th>\n",
       "      <th>zmq_waterheater_505</th>\n",
       "      <th>zmq_waterheater_510</th>\n",
       "      <th>zmq_waterheater_561</th>\n",
       "      <th>...</th>\n",
       "      <th>zmq_waterheater_721</th>\n",
       "      <th>zmq_waterheater_744</th>\n",
       "      <th>zmq_waterheater_802</th>\n",
       "      <th>zmq_waterheater_849</th>\n",
       "      <th>zmq_waterheater_863</th>\n",
       "      <th>zmq_waterheater_876</th>\n",
       "      <th>zmq_waterheater_908</th>\n",
       "      <th>zmq_waterheater_935</th>\n",
       "      <th>zmq_waterheater_946</th>\n",
       "      <th>zmq_waterheater_971</th>\n",
       "    </tr>\n",
       "    <tr>\n",
       "      <th>shift</th>\n",
       "      <th></th>\n",
       "      <th></th>\n",
       "      <th></th>\n",
       "      <th></th>\n",
       "      <th></th>\n",
       "      <th></th>\n",
       "      <th></th>\n",
       "      <th></th>\n",
       "      <th></th>\n",
       "      <th></th>\n",
       "      <th></th>\n",
       "      <th></th>\n",
       "      <th></th>\n",
       "      <th></th>\n",
       "      <th></th>\n",
       "      <th></th>\n",
       "      <th></th>\n",
       "      <th></th>\n",
       "      <th></th>\n",
       "      <th></th>\n",
       "      <th></th>\n",
       "    </tr>\n",
       "  </thead>\n",
       "  <tbody>\n",
       "    <tr>\n",
       "      <th>-12.933333</th>\n",
       "      <td>NaN</td>\n",
       "      <td>NaN</td>\n",
       "      <td>NaN</td>\n",
       "      <td>NaN</td>\n",
       "      <td>NaN</td>\n",
       "      <td>NaN</td>\n",
       "      <td>NaN</td>\n",
       "      <td>NaN</td>\n",
       "      <td>NaN</td>\n",
       "      <td>NaN</td>\n",
       "      <td>...</td>\n",
       "      <td>NaN</td>\n",
       "      <td>NaN</td>\n",
       "      <td>NaN</td>\n",
       "      <td>NaN</td>\n",
       "      <td>NaN</td>\n",
       "      <td>NaN</td>\n",
       "      <td>NaN</td>\n",
       "      <td>NaN</td>\n",
       "      <td>NaN</td>\n",
       "      <td>NaN</td>\n",
       "    </tr>\n",
       "    <tr>\n",
       "      <th>-12.916667</th>\n",
       "      <td>NaN</td>\n",
       "      <td>NaN</td>\n",
       "      <td>NaN</td>\n",
       "      <td>NaN</td>\n",
       "      <td>NaN</td>\n",
       "      <td>NaN</td>\n",
       "      <td>NaN</td>\n",
       "      <td>NaN</td>\n",
       "      <td>NaN</td>\n",
       "      <td>NaN</td>\n",
       "      <td>...</td>\n",
       "      <td>NaN</td>\n",
       "      <td>NaN</td>\n",
       "      <td>NaN</td>\n",
       "      <td>NaN</td>\n",
       "      <td>NaN</td>\n",
       "      <td>NaN</td>\n",
       "      <td>NaN</td>\n",
       "      <td>NaN</td>\n",
       "      <td>NaN</td>\n",
       "      <td>NaN</td>\n",
       "    </tr>\n",
       "    <tr>\n",
       "      <th>-11.366667</th>\n",
       "      <td>NaN</td>\n",
       "      <td>NaN</td>\n",
       "      <td>NaN</td>\n",
       "      <td>NaN</td>\n",
       "      <td>NaN</td>\n",
       "      <td>NaN</td>\n",
       "      <td>NaN</td>\n",
       "      <td>NaN</td>\n",
       "      <td>NaN</td>\n",
       "      <td>NaN</td>\n",
       "      <td>...</td>\n",
       "      <td>NaN</td>\n",
       "      <td>NaN</td>\n",
       "      <td>NaN</td>\n",
       "      <td>NaN</td>\n",
       "      <td>NaN</td>\n",
       "      <td>NaN</td>\n",
       "      <td>NaN</td>\n",
       "      <td>NaN</td>\n",
       "      <td>NaN</td>\n",
       "      <td>NaN</td>\n",
       "    </tr>\n",
       "    <tr>\n",
       "      <th>-11.350000</th>\n",
       "      <td>NaN</td>\n",
       "      <td>NaN</td>\n",
       "      <td>NaN</td>\n",
       "      <td>NaN</td>\n",
       "      <td>NaN</td>\n",
       "      <td>NaN</td>\n",
       "      <td>NaN</td>\n",
       "      <td>NaN</td>\n",
       "      <td>NaN</td>\n",
       "      <td>NaN</td>\n",
       "      <td>...</td>\n",
       "      <td>NaN</td>\n",
       "      <td>NaN</td>\n",
       "      <td>NaN</td>\n",
       "      <td>NaN</td>\n",
       "      <td>NaN</td>\n",
       "      <td>NaN</td>\n",
       "      <td>1.0</td>\n",
       "      <td>NaN</td>\n",
       "      <td>NaN</td>\n",
       "      <td>NaN</td>\n",
       "    </tr>\n",
       "    <tr>\n",
       "      <th>-11.333333</th>\n",
       "      <td>NaN</td>\n",
       "      <td>NaN</td>\n",
       "      <td>NaN</td>\n",
       "      <td>NaN</td>\n",
       "      <td>NaN</td>\n",
       "      <td>NaN</td>\n",
       "      <td>NaN</td>\n",
       "      <td>NaN</td>\n",
       "      <td>NaN</td>\n",
       "      <td>NaN</td>\n",
       "      <td>...</td>\n",
       "      <td>NaN</td>\n",
       "      <td>NaN</td>\n",
       "      <td>NaN</td>\n",
       "      <td>NaN</td>\n",
       "      <td>NaN</td>\n",
       "      <td>NaN</td>\n",
       "      <td>1.0</td>\n",
       "      <td>NaN</td>\n",
       "      <td>NaN</td>\n",
       "      <td>NaN</td>\n",
       "    </tr>\n",
       "  </tbody>\n",
       "</table>\n",
       "<p>5 rows × 445 columns</p>\n",
       "</div>"
      ],
      "text/plain": [
       "day                        1                                           \\\n",
       "name       zmq_waterheater_19 zmq_waterheater_194 zmq_waterheater_288   \n",
       "shift                                                                   \n",
       "-12.933333                NaN                 NaN                 NaN   \n",
       "-12.916667                NaN                 NaN                 NaN   \n",
       "-11.366667                NaN                 NaN                 NaN   \n",
       "-11.350000                NaN                 NaN                 NaN   \n",
       "-11.333333                NaN                 NaN                 NaN   \n",
       "\n",
       "day                                                                     \\\n",
       "name       zmq_waterheater_393 zmq_waterheater_411 zmq_waterheater_468   \n",
       "shift                                                                    \n",
       "-12.933333                 NaN                 NaN                 NaN   \n",
       "-12.916667                 NaN                 NaN                 NaN   \n",
       "-11.366667                 NaN                 NaN                 NaN   \n",
       "-11.350000                 NaN                 NaN                 NaN   \n",
       "-11.333333                 NaN                 NaN                 NaN   \n",
       "\n",
       "day                                                                   \\\n",
       "name       zmq_waterheater_5 zmq_waterheater_505 zmq_waterheater_510   \n",
       "shift                                                                  \n",
       "-12.933333               NaN                 NaN                 NaN   \n",
       "-12.916667               NaN                 NaN                 NaN   \n",
       "-11.366667               NaN                 NaN                 NaN   \n",
       "-11.350000               NaN                 NaN                 NaN   \n",
       "-11.333333               NaN                 NaN                 NaN   \n",
       "\n",
       "day                                    ...                          31  \\\n",
       "name       zmq_waterheater_561         ...         zmq_waterheater_721   \n",
       "shift                                  ...                               \n",
       "-12.933333                 NaN         ...                         NaN   \n",
       "-12.916667                 NaN         ...                         NaN   \n",
       "-11.366667                 NaN         ...                         NaN   \n",
       "-11.350000                 NaN         ...                         NaN   \n",
       "-11.333333                 NaN         ...                         NaN   \n",
       "\n",
       "day                                                                     \\\n",
       "name       zmq_waterheater_744 zmq_waterheater_802 zmq_waterheater_849   \n",
       "shift                                                                    \n",
       "-12.933333                 NaN                 NaN                 NaN   \n",
       "-12.916667                 NaN                 NaN                 NaN   \n",
       "-11.366667                 NaN                 NaN                 NaN   \n",
       "-11.350000                 NaN                 NaN                 NaN   \n",
       "-11.333333                 NaN                 NaN                 NaN   \n",
       "\n",
       "day                                                                     \\\n",
       "name       zmq_waterheater_863 zmq_waterheater_876 zmq_waterheater_908   \n",
       "shift                                                                    \n",
       "-12.933333                 NaN                 NaN                 NaN   \n",
       "-12.916667                 NaN                 NaN                 NaN   \n",
       "-11.366667                 NaN                 NaN                 NaN   \n",
       "-11.350000                 NaN                 NaN                 1.0   \n",
       "-11.333333                 NaN                 NaN                 1.0   \n",
       "\n",
       "day                                                                     \n",
       "name       zmq_waterheater_935 zmq_waterheater_946 zmq_waterheater_971  \n",
       "shift                                                                   \n",
       "-12.933333                 NaN                 NaN                 NaN  \n",
       "-12.916667                 NaN                 NaN                 NaN  \n",
       "-11.366667                 NaN                 NaN                 NaN  \n",
       "-11.350000                 NaN                 NaN                 NaN  \n",
       "-11.333333                 NaN                 NaN                 NaN  \n",
       "\n",
       "[5 rows x 445 columns]"
      ]
     },
     "execution_count": 126,
     "metadata": {},
     "output_type": "execute_result"
    }
   ],
   "source": [
    "piv = tmp.pivot_table(index='shift', \n",
    "                      columns=['day', 'name'],\n",
    "                      values='value', \n",
    "                      aggfunc='count')\n",
    "piv.head()"
   ]
  },
  {
   "cell_type": "code",
   "execution_count": 127,
   "metadata": {
    "collapsed": false
   },
   "outputs": [
    {
     "data": {
      "text/plain": [
       "shift\n",
       "-12.933333    1.0\n",
       "-12.916667    1.0\n",
       "-11.366667    1.0\n",
       "-11.350000    1.0\n",
       "-11.333333    1.0\n",
       "dtype: float64"
      ]
     },
     "execution_count": 127,
     "metadata": {},
     "output_type": "execute_result"
    }
   ],
   "source": [
    "piv.sum(axis=1).head()"
   ]
  },
  {
   "cell_type": "code",
   "execution_count": 128,
   "metadata": {
    "collapsed": false
   },
   "outputs": [
    {
     "data": {
      "text/html": [
       "<div>\n",
       "<table border=\"1\" class=\"dataframe\">\n",
       "  <thead>\n",
       "    <tr style=\"text-align: right;\">\n",
       "      <th>day</th>\n",
       "      <th>1</th>\n",
       "      <th>2</th>\n",
       "      <th>3</th>\n",
       "      <th>4</th>\n",
       "      <th>5</th>\n",
       "      <th>6</th>\n",
       "      <th>7</th>\n",
       "      <th>8</th>\n",
       "      <th>9</th>\n",
       "      <th>26</th>\n",
       "      <th>27</th>\n",
       "      <th>28</th>\n",
       "      <th>29</th>\n",
       "      <th>30</th>\n",
       "      <th>31</th>\n",
       "    </tr>\n",
       "    <tr>\n",
       "      <th>shift</th>\n",
       "      <th></th>\n",
       "      <th></th>\n",
       "      <th></th>\n",
       "      <th></th>\n",
       "      <th></th>\n",
       "      <th></th>\n",
       "      <th></th>\n",
       "      <th></th>\n",
       "      <th></th>\n",
       "      <th></th>\n",
       "      <th></th>\n",
       "      <th></th>\n",
       "      <th></th>\n",
       "      <th></th>\n",
       "      <th></th>\n",
       "    </tr>\n",
       "  </thead>\n",
       "  <tbody>\n",
       "    <tr>\n",
       "      <th>-12.933333</th>\n",
       "      <td>NaN</td>\n",
       "      <td>NaN</td>\n",
       "      <td>NaN</td>\n",
       "      <td>NaN</td>\n",
       "      <td>NaN</td>\n",
       "      <td>NaN</td>\n",
       "      <td>1.0</td>\n",
       "      <td>NaN</td>\n",
       "      <td>NaN</td>\n",
       "      <td>NaN</td>\n",
       "      <td>NaN</td>\n",
       "      <td>NaN</td>\n",
       "      <td>NaN</td>\n",
       "      <td>NaN</td>\n",
       "      <td>NaN</td>\n",
       "    </tr>\n",
       "    <tr>\n",
       "      <th>-12.916667</th>\n",
       "      <td>NaN</td>\n",
       "      <td>NaN</td>\n",
       "      <td>NaN</td>\n",
       "      <td>NaN</td>\n",
       "      <td>NaN</td>\n",
       "      <td>NaN</td>\n",
       "      <td>1.0</td>\n",
       "      <td>NaN</td>\n",
       "      <td>NaN</td>\n",
       "      <td>NaN</td>\n",
       "      <td>NaN</td>\n",
       "      <td>NaN</td>\n",
       "      <td>NaN</td>\n",
       "      <td>NaN</td>\n",
       "      <td>NaN</td>\n",
       "    </tr>\n",
       "    <tr>\n",
       "      <th>-11.366667</th>\n",
       "      <td>NaN</td>\n",
       "      <td>NaN</td>\n",
       "      <td>NaN</td>\n",
       "      <td>NaN</td>\n",
       "      <td>NaN</td>\n",
       "      <td>NaN</td>\n",
       "      <td>NaN</td>\n",
       "      <td>NaN</td>\n",
       "      <td>NaN</td>\n",
       "      <td>1.0</td>\n",
       "      <td>NaN</td>\n",
       "      <td>NaN</td>\n",
       "      <td>NaN</td>\n",
       "      <td>NaN</td>\n",
       "      <td>NaN</td>\n",
       "    </tr>\n",
       "    <tr>\n",
       "      <th>-11.350000</th>\n",
       "      <td>NaN</td>\n",
       "      <td>NaN</td>\n",
       "      <td>NaN</td>\n",
       "      <td>NaN</td>\n",
       "      <td>NaN</td>\n",
       "      <td>NaN</td>\n",
       "      <td>NaN</td>\n",
       "      <td>NaN</td>\n",
       "      <td>NaN</td>\n",
       "      <td>NaN</td>\n",
       "      <td>NaN</td>\n",
       "      <td>NaN</td>\n",
       "      <td>NaN</td>\n",
       "      <td>NaN</td>\n",
       "      <td>1.0</td>\n",
       "    </tr>\n",
       "    <tr>\n",
       "      <th>-11.333333</th>\n",
       "      <td>NaN</td>\n",
       "      <td>NaN</td>\n",
       "      <td>NaN</td>\n",
       "      <td>NaN</td>\n",
       "      <td>NaN</td>\n",
       "      <td>NaN</td>\n",
       "      <td>NaN</td>\n",
       "      <td>NaN</td>\n",
       "      <td>NaN</td>\n",
       "      <td>NaN</td>\n",
       "      <td>NaN</td>\n",
       "      <td>NaN</td>\n",
       "      <td>NaN</td>\n",
       "      <td>NaN</td>\n",
       "      <td>1.0</td>\n",
       "    </tr>\n",
       "  </tbody>\n",
       "</table>\n",
       "</div>"
      ],
      "text/plain": [
       "day         1   2   3   4   5   6    7   8   9    26  27  28  29  30   31\n",
       "shift                                                                    \n",
       "-12.933333 NaN NaN NaN NaN NaN NaN  1.0 NaN NaN  NaN NaN NaN NaN NaN  NaN\n",
       "-12.916667 NaN NaN NaN NaN NaN NaN  1.0 NaN NaN  NaN NaN NaN NaN NaN  NaN\n",
       "-11.366667 NaN NaN NaN NaN NaN NaN  NaN NaN NaN  1.0 NaN NaN NaN NaN  NaN\n",
       "-11.350000 NaN NaN NaN NaN NaN NaN  NaN NaN NaN  NaN NaN NaN NaN NaN  1.0\n",
       "-11.333333 NaN NaN NaN NaN NaN NaN  NaN NaN NaN  NaN NaN NaN NaN NaN  1.0"
      ]
     },
     "execution_count": 128,
     "metadata": {},
     "output_type": "execute_result"
    }
   ],
   "source": [
    "piv.sum(axis=1, level=0).head()"
   ]
  },
  {
   "cell_type": "code",
   "execution_count": 129,
   "metadata": {
    "collapsed": false
   },
   "outputs": [
    {
     "data": {
      "text/html": [
       "<div>\n",
       "<table border=\"1\" class=\"dataframe\">\n",
       "  <thead>\n",
       "    <tr style=\"text-align: right;\">\n",
       "      <th>day</th>\n",
       "      <th>1</th>\n",
       "      <th>2</th>\n",
       "      <th>3</th>\n",
       "      <th>4</th>\n",
       "      <th>5</th>\n",
       "      <th>6</th>\n",
       "      <th>7</th>\n",
       "      <th>8</th>\n",
       "      <th>9</th>\n",
       "      <th>26</th>\n",
       "      <th>27</th>\n",
       "      <th>28</th>\n",
       "      <th>29</th>\n",
       "      <th>30</th>\n",
       "      <th>31</th>\n",
       "    </tr>\n",
       "    <tr>\n",
       "      <th>shift</th>\n",
       "      <th></th>\n",
       "      <th></th>\n",
       "      <th></th>\n",
       "      <th></th>\n",
       "      <th></th>\n",
       "      <th></th>\n",
       "      <th></th>\n",
       "      <th></th>\n",
       "      <th></th>\n",
       "      <th></th>\n",
       "      <th></th>\n",
       "      <th></th>\n",
       "      <th></th>\n",
       "      <th></th>\n",
       "      <th></th>\n",
       "    </tr>\n",
       "  </thead>\n",
       "  <tbody>\n",
       "    <tr>\n",
       "      <th>-12.933333</th>\n",
       "      <td>0.0</td>\n",
       "      <td>0.0</td>\n",
       "      <td>0.0</td>\n",
       "      <td>0.0</td>\n",
       "      <td>0.0</td>\n",
       "      <td>0.0</td>\n",
       "      <td>1.0</td>\n",
       "      <td>0.0</td>\n",
       "      <td>0.0</td>\n",
       "      <td>0.0</td>\n",
       "      <td>0.0</td>\n",
       "      <td>0.0</td>\n",
       "      <td>0.0</td>\n",
       "      <td>0.0</td>\n",
       "      <td>0.0</td>\n",
       "    </tr>\n",
       "    <tr>\n",
       "      <th>-12.916667</th>\n",
       "      <td>0.0</td>\n",
       "      <td>0.0</td>\n",
       "      <td>0.0</td>\n",
       "      <td>0.0</td>\n",
       "      <td>0.0</td>\n",
       "      <td>0.0</td>\n",
       "      <td>1.0</td>\n",
       "      <td>0.0</td>\n",
       "      <td>0.0</td>\n",
       "      <td>0.0</td>\n",
       "      <td>0.0</td>\n",
       "      <td>0.0</td>\n",
       "      <td>0.0</td>\n",
       "      <td>0.0</td>\n",
       "      <td>0.0</td>\n",
       "    </tr>\n",
       "    <tr>\n",
       "      <th>-11.366667</th>\n",
       "      <td>0.0</td>\n",
       "      <td>0.0</td>\n",
       "      <td>0.0</td>\n",
       "      <td>0.0</td>\n",
       "      <td>0.0</td>\n",
       "      <td>0.0</td>\n",
       "      <td>0.0</td>\n",
       "      <td>0.0</td>\n",
       "      <td>0.0</td>\n",
       "      <td>1.0</td>\n",
       "      <td>0.0</td>\n",
       "      <td>0.0</td>\n",
       "      <td>0.0</td>\n",
       "      <td>0.0</td>\n",
       "      <td>0.0</td>\n",
       "    </tr>\n",
       "    <tr>\n",
       "      <th>-11.350000</th>\n",
       "      <td>0.0</td>\n",
       "      <td>0.0</td>\n",
       "      <td>0.0</td>\n",
       "      <td>0.0</td>\n",
       "      <td>0.0</td>\n",
       "      <td>0.0</td>\n",
       "      <td>0.0</td>\n",
       "      <td>0.0</td>\n",
       "      <td>0.0</td>\n",
       "      <td>0.0</td>\n",
       "      <td>0.0</td>\n",
       "      <td>0.0</td>\n",
       "      <td>0.0</td>\n",
       "      <td>0.0</td>\n",
       "      <td>1.0</td>\n",
       "    </tr>\n",
       "    <tr>\n",
       "      <th>-11.333333</th>\n",
       "      <td>0.0</td>\n",
       "      <td>0.0</td>\n",
       "      <td>0.0</td>\n",
       "      <td>0.0</td>\n",
       "      <td>0.0</td>\n",
       "      <td>0.0</td>\n",
       "      <td>0.0</td>\n",
       "      <td>0.0</td>\n",
       "      <td>0.0</td>\n",
       "      <td>0.0</td>\n",
       "      <td>0.0</td>\n",
       "      <td>0.0</td>\n",
       "      <td>0.0</td>\n",
       "      <td>0.0</td>\n",
       "      <td>1.0</td>\n",
       "    </tr>\n",
       "  </tbody>\n",
       "</table>\n",
       "</div>"
      ],
      "text/plain": [
       "day          1    2    3    4    5    6    7    8    9    26   27   28   29  \\\n",
       "shift                                                                         \n",
       "-12.933333  0.0  0.0  0.0  0.0  0.0  0.0  1.0  0.0  0.0  0.0  0.0  0.0  0.0   \n",
       "-12.916667  0.0  0.0  0.0  0.0  0.0  0.0  1.0  0.0  0.0  0.0  0.0  0.0  0.0   \n",
       "-11.366667  0.0  0.0  0.0  0.0  0.0  0.0  0.0  0.0  0.0  1.0  0.0  0.0  0.0   \n",
       "-11.350000  0.0  0.0  0.0  0.0  0.0  0.0  0.0  0.0  0.0  0.0  0.0  0.0  0.0   \n",
       "-11.333333  0.0  0.0  0.0  0.0  0.0  0.0  0.0  0.0  0.0  0.0  0.0  0.0  0.0   \n",
       "\n",
       "day          30   31  \n",
       "shift                 \n",
       "-12.933333  0.0  0.0  \n",
       "-12.916667  0.0  0.0  \n",
       "-11.366667  0.0  0.0  \n",
       "-11.350000  0.0  1.0  \n",
       "-11.333333  0.0  1.0  "
      ]
     },
     "execution_count": 129,
     "metadata": {},
     "output_type": "execute_result"
    }
   ],
   "source": [
    "piv1 = piv.sum(axis=1, level=0).fillna(0)\n",
    "piv1.head()"
   ]
  },
  {
   "cell_type": "code",
   "execution_count": 130,
   "metadata": {
    "collapsed": false
   },
   "outputs": [
    {
     "data": {
      "text/plain": [
       "<matplotlib.axes._subplots.AxesSubplot at 0x112cf5c10>"
      ]
     },
     "execution_count": 130,
     "metadata": {},
     "output_type": "execute_result"
    },
    {
     "data": {
      "image/png": "[encoded data removed]",
      "text/plain": [
       "<matplotlib.figure.Figure at 0x1131b6c50>"
      ]
     },
     "metadata": {},
     "output_type": "display_data"
    }
   ],
   "source": [
    "piv1.mean(axis=1).plot(figsize=(8, 5))"
   ]
  },
  {
   "cell_type": "markdown",
   "metadata": {},
   "source": [
    "Recap in 4 steps"
   ]
  },
  {
   "cell_type": "code",
   "execution_count": 131,
   "metadata": {
    "collapsed": false
   },
   "outputs": [
    {
     "data": {
      "text/plain": [
       "<matplotlib.axes._subplots.AxesSubplot at 0x113787e50>"
      ]
     },
     "execution_count": 131,
     "metadata": {},
     "output_type": "execute_result"
    },
    {
     "data": {
      "image/png": "[encoded data removed]",
      "text/plain": [
       "<matplotlib.figure.Figure at 0x112d01910>"
      ]
     },
     "metadata": {},
     "output_type": "display_data"
    }
   ],
   "source": [
    "final = (tmp.pivot_table(index='shift', \n",
    "                         columns=['day', 'name'],\n",
    "                         values='value', \n",
    "                         aggfunc='count')\n",
    "            .sum(axis=1, level=0)\n",
    "            .fillna(0))\n",
    "        \n",
    "final.mean(axis=1).plot(figsize=(8, 5))"
   ]
  },
  {
   "cell_type": "markdown",
   "metadata": {},
   "source": [
    "Number of events every 10 minutes."
   ]
  },
  {
   "cell_type": "code",
   "execution_count": 132,
   "metadata": {
    "collapsed": false
   },
   "outputs": [
    {
     "data": {
      "text/plain": [
       "<matplotlib.axes._subplots.AxesSubplot at 0x112cdcc90>"
      ]
     },
     "execution_count": 132,
     "metadata": {},
     "output_type": "execute_result"
    },
    {
     "data": {
      "image/png": "[encoded data removed]",
      "text/plain": [
       "<matplotlib.figure.Figure at 0x112a73490>"
      ]
     },
     "metadata": {},
     "output_type": "display_data"
    }
   ],
   "source": [
    "dt_index = (pd.to_datetime(\"2013-07-01 13:00:00\") + \n",
    "            final.index.map(lambda x: datetime.timedelta(hours=x)))\n",
    "\n",
    "sample = final.set_index(dt_index).resample('15min').sum().fillna(0)\n",
    "sample.index = (sample.index - pd.to_datetime(\"2013-07-01 13:00:00\")).map(lambda x: x.total_seconds()/60./60.)\n",
    "\n",
    "sample.mean(axis=1).plot(figsize=(8, 5))"
   ]
  },
  {
   "cell_type": "markdown",
   "metadata": {},
   "source": [
    "What we did.."
   ]
  },
  {
   "cell_type": "code",
   "execution_count": 147,
   "metadata": {
    "collapsed": false
   },
   "outputs": [
    {
     "data": {
      "text/plain": [
       "<matplotlib.axes._subplots.AxesSubplot at 0x115699bd0>"
      ]
     },
     "execution_count": 147,
     "metadata": {},
     "output_type": "execute_result"
    },
    {
     "data": {
      "image/png": "[encoded data removed]",
      "text/plain": [
       "<matplotlib.figure.Figure at 0x115597910>"
      ]
     },
     "metadata": {},
     "output_type": "display_data"
    }
   ],
   "source": [
    "final = tmp.pivot_table(index='shift', columns=['day', 'name'], values='value', aggfunc='count')\n",
    "            \n",
    "final = final.sum(axis=1, level=0).fillna(0)\n",
    "\n",
    "dt_index = pd.to_datetime(\"2013-07-01 13:00:00\") + final.index.map(lambda x: datetime.timedelta(hours=x))\n",
    "sample = final.set_index(dt_index).resample('15min').sum().fillna(0)\n",
    "sample.index = (sample.index - pd.to_datetime(\"2013-07-01 13:00:00\")).map(lambda x: x.total_seconds()/60./60.)\n",
    "\n",
    "sample.mean(axis=1).plot(figsize=(8, 5))"
   ]
  },
  {
   "cell_type": "markdown",
   "metadata": {},
   "source": [
    "## Many simulations"
   ]
  },
  {
   "cell_type": "code",
   "execution_count": 141,
   "metadata": {
    "collapsed": true
   },
   "outputs": [],
   "source": [
    "qry = [\"feeder=='one'\",\n",
    "       \"season=='summer'\",\n",
    "       \"attribute=='shower demand 110'\"]\n",
    "\n",
    "tmp = df.query(\" and \".join(qry))"
   ]
  },
  {
   "cell_type": "code",
   "execution_count": 155,
   "metadata": {
    "collapsed": false
   },
   "outputs": [
    {
     "data": {
      "text/html": [
       "<div>\n",
       "<table border=\"1\" class=\"dataframe\">\n",
       "  <thead>\n",
       "    <tr>\n",
       "      <th>feeder</th>\n",
       "      <th colspan=\"21\" halign=\"left\">one</th>\n",
       "    </tr>\n",
       "    <tr>\n",
       "      <th>season</th>\n",
       "      <th colspan=\"21\" halign=\"left\">summer</th>\n",
       "    </tr>\n",
       "    <tr>\n",
       "      <th>strategy</th>\n",
       "      <th colspan=\"10\" halign=\"left\">no_control</th>\n",
       "      <th>...</th>\n",
       "      <th colspan=\"10\" halign=\"left\">smooth</th>\n",
       "    </tr>\n",
       "    <tr>\n",
       "      <th>control</th>\n",
       "      <th colspan=\"10\" halign=\"left\">0</th>\n",
       "      <th>...</th>\n",
       "      <th colspan=\"10\" halign=\"left\">75</th>\n",
       "    </tr>\n",
       "    <tr>\n",
       "      <th>day</th>\n",
       "      <th colspan=\"10\" halign=\"left\">1</th>\n",
       "      <th>...</th>\n",
       "      <th colspan=\"10\" halign=\"left\">31</th>\n",
       "    </tr>\n",
       "    <tr>\n",
       "      <th>name</th>\n",
       "      <th>zmq_waterheater_19</th>\n",
       "      <th>zmq_waterheater_194</th>\n",
       "      <th>zmq_waterheater_288</th>\n",
       "      <th>zmq_waterheater_393</th>\n",
       "      <th>zmq_waterheater_411</th>\n",
       "      <th>zmq_waterheater_468</th>\n",
       "      <th>zmq_waterheater_5</th>\n",
       "      <th>zmq_waterheater_505</th>\n",
       "      <th>zmq_waterheater_510</th>\n",
       "      <th>zmq_waterheater_561</th>\n",
       "      <th>...</th>\n",
       "      <th>zmq_waterheater_908</th>\n",
       "      <th>zmq_waterheater_926</th>\n",
       "      <th>zmq_waterheater_935</th>\n",
       "      <th>zmq_waterheater_937</th>\n",
       "      <th>zmq_waterheater_946</th>\n",
       "      <th>zmq_waterheater_950</th>\n",
       "      <th>zmq_waterheater_963</th>\n",
       "      <th>zmq_waterheater_967</th>\n",
       "      <th>zmq_waterheater_971</th>\n",
       "      <th>zmq_waterheater_982</th>\n",
       "    </tr>\n",
       "    <tr>\n",
       "      <th>shift</th>\n",
       "      <th></th>\n",
       "      <th></th>\n",
       "      <th></th>\n",
       "      <th></th>\n",
       "      <th></th>\n",
       "      <th></th>\n",
       "      <th></th>\n",
       "      <th></th>\n",
       "      <th></th>\n",
       "      <th></th>\n",
       "      <th></th>\n",
       "      <th></th>\n",
       "      <th></th>\n",
       "      <th></th>\n",
       "      <th></th>\n",
       "      <th></th>\n",
       "      <th></th>\n",
       "      <th></th>\n",
       "      <th></th>\n",
       "      <th></th>\n",
       "      <th></th>\n",
       "    </tr>\n",
       "  </thead>\n",
       "  <tbody>\n",
       "    <tr>\n",
       "      <th>-12.966667</th>\n",
       "      <td>NaN</td>\n",
       "      <td>NaN</td>\n",
       "      <td>NaN</td>\n",
       "      <td>NaN</td>\n",
       "      <td>NaN</td>\n",
       "      <td>NaN</td>\n",
       "      <td>NaN</td>\n",
       "      <td>NaN</td>\n",
       "      <td>NaN</td>\n",
       "      <td>NaN</td>\n",
       "      <td>...</td>\n",
       "      <td>NaN</td>\n",
       "      <td>NaN</td>\n",
       "      <td>NaN</td>\n",
       "      <td>NaN</td>\n",
       "      <td>NaN</td>\n",
       "      <td>NaN</td>\n",
       "      <td>NaN</td>\n",
       "      <td>NaN</td>\n",
       "      <td>NaN</td>\n",
       "      <td>NaN</td>\n",
       "    </tr>\n",
       "    <tr>\n",
       "      <th>-12.950000</th>\n",
       "      <td>NaN</td>\n",
       "      <td>NaN</td>\n",
       "      <td>NaN</td>\n",
       "      <td>NaN</td>\n",
       "      <td>NaN</td>\n",
       "      <td>NaN</td>\n",
       "      <td>NaN</td>\n",
       "      <td>NaN</td>\n",
       "      <td>NaN</td>\n",
       "      <td>NaN</td>\n",
       "      <td>...</td>\n",
       "      <td>NaN</td>\n",
       "      <td>NaN</td>\n",
       "      <td>NaN</td>\n",
       "      <td>NaN</td>\n",
       "      <td>NaN</td>\n",
       "      <td>NaN</td>\n",
       "      <td>NaN</td>\n",
       "      <td>NaN</td>\n",
       "      <td>NaN</td>\n",
       "      <td>NaN</td>\n",
       "    </tr>\n",
       "    <tr>\n",
       "      <th>-12.933333</th>\n",
       "      <td>NaN</td>\n",
       "      <td>NaN</td>\n",
       "      <td>NaN</td>\n",
       "      <td>NaN</td>\n",
       "      <td>NaN</td>\n",
       "      <td>NaN</td>\n",
       "      <td>NaN</td>\n",
       "      <td>NaN</td>\n",
       "      <td>NaN</td>\n",
       "      <td>NaN</td>\n",
       "      <td>...</td>\n",
       "      <td>NaN</td>\n",
       "      <td>NaN</td>\n",
       "      <td>NaN</td>\n",
       "      <td>NaN</td>\n",
       "      <td>NaN</td>\n",
       "      <td>NaN</td>\n",
       "      <td>NaN</td>\n",
       "      <td>NaN</td>\n",
       "      <td>NaN</td>\n",
       "      <td>NaN</td>\n",
       "    </tr>\n",
       "    <tr>\n",
       "      <th>-12.916667</th>\n",
       "      <td>NaN</td>\n",
       "      <td>NaN</td>\n",
       "      <td>NaN</td>\n",
       "      <td>NaN</td>\n",
       "      <td>NaN</td>\n",
       "      <td>NaN</td>\n",
       "      <td>NaN</td>\n",
       "      <td>NaN</td>\n",
       "      <td>NaN</td>\n",
       "      <td>NaN</td>\n",
       "      <td>...</td>\n",
       "      <td>NaN</td>\n",
       "      <td>NaN</td>\n",
       "      <td>NaN</td>\n",
       "      <td>NaN</td>\n",
       "      <td>NaN</td>\n",
       "      <td>NaN</td>\n",
       "      <td>NaN</td>\n",
       "      <td>NaN</td>\n",
       "      <td>NaN</td>\n",
       "      <td>NaN</td>\n",
       "    </tr>\n",
       "    <tr>\n",
       "      <th>-12.466667</th>\n",
       "      <td>NaN</td>\n",
       "      <td>NaN</td>\n",
       "      <td>NaN</td>\n",
       "      <td>NaN</td>\n",
       "      <td>NaN</td>\n",
       "      <td>NaN</td>\n",
       "      <td>NaN</td>\n",
       "      <td>NaN</td>\n",
       "      <td>NaN</td>\n",
       "      <td>NaN</td>\n",
       "      <td>...</td>\n",
       "      <td>NaN</td>\n",
       "      <td>NaN</td>\n",
       "      <td>NaN</td>\n",
       "      <td>NaN</td>\n",
       "      <td>NaN</td>\n",
       "      <td>NaN</td>\n",
       "      <td>NaN</td>\n",
       "      <td>NaN</td>\n",
       "      <td>NaN</td>\n",
       "      <td>NaN</td>\n",
       "    </tr>\n",
       "  </tbody>\n",
       "</table>\n",
       "<p>5 rows × 6466 columns</p>\n",
       "</div>"
      ],
      "text/plain": [
       "feeder                    one                                          \\\n",
       "season                 summer                                           \n",
       "strategy           no_control                                           \n",
       "control                    0                                            \n",
       "day                        1                                            \n",
       "name       zmq_waterheater_19 zmq_waterheater_194 zmq_waterheater_288   \n",
       "shift                                                                   \n",
       "-12.966667                NaN                 NaN                 NaN   \n",
       "-12.950000                NaN                 NaN                 NaN   \n",
       "-12.933333                NaN                 NaN                 NaN   \n",
       "-12.916667                NaN                 NaN                 NaN   \n",
       "-12.466667                NaN                 NaN                 NaN   \n",
       "\n",
       "feeder                                                                  \\\n",
       "season                                                                   \n",
       "strategy                                                                 \n",
       "control                                                                  \n",
       "day                                                                      \n",
       "name       zmq_waterheater_393 zmq_waterheater_411 zmq_waterheater_468   \n",
       "shift                                                                    \n",
       "-12.966667                 NaN                 NaN                 NaN   \n",
       "-12.950000                 NaN                 NaN                 NaN   \n",
       "-12.933333                 NaN                 NaN                 NaN   \n",
       "-12.916667                 NaN                 NaN                 NaN   \n",
       "-12.466667                 NaN                 NaN                 NaN   \n",
       "\n",
       "feeder                                                                \\\n",
       "season                                                                 \n",
       "strategy                                                               \n",
       "control                                                                \n",
       "day                                                                    \n",
       "name       zmq_waterheater_5 zmq_waterheater_505 zmq_waterheater_510   \n",
       "shift                                                                  \n",
       "-12.966667               NaN                 NaN                 NaN   \n",
       "-12.950000               NaN                 NaN                 NaN   \n",
       "-12.933333               NaN                 NaN                 NaN   \n",
       "-12.916667               NaN                 NaN                 NaN   \n",
       "-12.466667               NaN                 NaN                 NaN   \n",
       "\n",
       "feeder                                 ...                              \\\n",
       "season                                 ...                               \n",
       "strategy                               ...                      smooth   \n",
       "control                                ...                          75   \n",
       "day                                    ...                          31   \n",
       "name       zmq_waterheater_561         ...         zmq_waterheater_908   \n",
       "shift                                  ...                               \n",
       "-12.966667                 NaN         ...                         NaN   \n",
       "-12.950000                 NaN         ...                         NaN   \n",
       "-12.933333                 NaN         ...                         NaN   \n",
       "-12.916667                 NaN         ...                         NaN   \n",
       "-12.466667                 NaN         ...                         NaN   \n",
       "\n",
       "feeder                                                                  \\\n",
       "season                                                                   \n",
       "strategy                                                                 \n",
       "control                                                                  \n",
       "day                                                                      \n",
       "name       zmq_waterheater_926 zmq_waterheater_935 zmq_waterheater_937   \n",
       "shift                                                                    \n",
       "-12.966667                 NaN                 NaN                 NaN   \n",
       "-12.950000                 NaN                 NaN                 NaN   \n",
       "-12.933333                 NaN                 NaN                 NaN   \n",
       "-12.916667                 NaN                 NaN                 NaN   \n",
       "-12.466667                 NaN                 NaN                 NaN   \n",
       "\n",
       "feeder                                                                  \\\n",
       "season                                                                   \n",
       "strategy                                                                 \n",
       "control                                                                  \n",
       "day                                                                      \n",
       "name       zmq_waterheater_946 zmq_waterheater_950 zmq_waterheater_963   \n",
       "shift                                                                    \n",
       "-12.966667                 NaN                 NaN                 NaN   \n",
       "-12.950000                 NaN                 NaN                 NaN   \n",
       "-12.933333                 NaN                 NaN                 NaN   \n",
       "-12.916667                 NaN                 NaN                 NaN   \n",
       "-12.466667                 NaN                 NaN                 NaN   \n",
       "\n",
       "feeder                                                                  \n",
       "season                                                                  \n",
       "strategy                                                                \n",
       "control                                                                 \n",
       "day                                                                     \n",
       "name       zmq_waterheater_967 zmq_waterheater_971 zmq_waterheater_982  \n",
       "shift                                                                   \n",
       "-12.966667                 NaN                 NaN                 NaN  \n",
       "-12.950000                 NaN                 NaN                 NaN  \n",
       "-12.933333                 NaN                 NaN                 NaN  \n",
       "-12.916667                 NaN                 NaN                 NaN  \n",
       "-12.466667                 NaN                 NaN                 NaN  \n",
       "\n",
       "[5 rows x 6466 columns]"
      ]
     },
     "execution_count": 155,
     "metadata": {},
     "output_type": "execute_result"
    }
   ],
   "source": [
    "final = tmp.pivot_table(index='shift', \n",
    "                         columns=['feeder', 'season', 'strategy', 'control', 'day', 'name'], \n",
    "                         values='value', \n",
    "                         aggfunc='count')\n",
    "final.head()"
   ]
  },
  {
   "cell_type": "code",
   "execution_count": 156,
   "metadata": {
    "collapsed": false
   },
   "outputs": [
    {
     "data": {
      "text/html": [
       "<div>\n",
       "<table border=\"1\" class=\"dataframe\">\n",
       "  <thead>\n",
       "    <tr>\n",
       "      <th>feeder</th>\n",
       "      <th colspan=\"21\" halign=\"left\">one</th>\n",
       "    </tr>\n",
       "    <tr>\n",
       "      <th>season</th>\n",
       "      <th colspan=\"21\" halign=\"left\">summer</th>\n",
       "    </tr>\n",
       "    <tr>\n",
       "      <th>strategy</th>\n",
       "      <th colspan=\"10\" halign=\"left\">no_control</th>\n",
       "      <th>...</th>\n",
       "      <th colspan=\"10\" halign=\"left\">smooth</th>\n",
       "    </tr>\n",
       "    <tr>\n",
       "      <th>control</th>\n",
       "      <th colspan=\"10\" halign=\"left\">0</th>\n",
       "      <th>...</th>\n",
       "      <th colspan=\"10\" halign=\"left\">75</th>\n",
       "    </tr>\n",
       "    <tr>\n",
       "      <th>day</th>\n",
       "      <th>1</th>\n",
       "      <th>2</th>\n",
       "      <th>3</th>\n",
       "      <th>4</th>\n",
       "      <th>5</th>\n",
       "      <th>6</th>\n",
       "      <th>7</th>\n",
       "      <th>8</th>\n",
       "      <th>9</th>\n",
       "      <th>26</th>\n",
       "      <th>...</th>\n",
       "      <th>6</th>\n",
       "      <th>7</th>\n",
       "      <th>8</th>\n",
       "      <th>9</th>\n",
       "      <th>26</th>\n",
       "      <th>27</th>\n",
       "      <th>28</th>\n",
       "      <th>29</th>\n",
       "      <th>30</th>\n",
       "      <th>31</th>\n",
       "    </tr>\n",
       "    <tr>\n",
       "      <th>shift</th>\n",
       "      <th></th>\n",
       "      <th></th>\n",
       "      <th></th>\n",
       "      <th></th>\n",
       "      <th></th>\n",
       "      <th></th>\n",
       "      <th></th>\n",
       "      <th></th>\n",
       "      <th></th>\n",
       "      <th></th>\n",
       "      <th></th>\n",
       "      <th></th>\n",
       "      <th></th>\n",
       "      <th></th>\n",
       "      <th></th>\n",
       "      <th></th>\n",
       "      <th></th>\n",
       "      <th></th>\n",
       "      <th></th>\n",
       "      <th></th>\n",
       "      <th></th>\n",
       "    </tr>\n",
       "  </thead>\n",
       "  <tbody>\n",
       "    <tr>\n",
       "      <th>-12.966667</th>\n",
       "      <td>0.0</td>\n",
       "      <td>0.0</td>\n",
       "      <td>0.0</td>\n",
       "      <td>0.0</td>\n",
       "      <td>0.0</td>\n",
       "      <td>0.0</td>\n",
       "      <td>0.0</td>\n",
       "      <td>0.0</td>\n",
       "      <td>0.0</td>\n",
       "      <td>0.0</td>\n",
       "      <td>...</td>\n",
       "      <td>0.0</td>\n",
       "      <td>1.0</td>\n",
       "      <td>0.0</td>\n",
       "      <td>0.0</td>\n",
       "      <td>0.0</td>\n",
       "      <td>0.0</td>\n",
       "      <td>0.0</td>\n",
       "      <td>0.0</td>\n",
       "      <td>0.0</td>\n",
       "      <td>0.0</td>\n",
       "    </tr>\n",
       "    <tr>\n",
       "      <th>-12.950000</th>\n",
       "      <td>0.0</td>\n",
       "      <td>0.0</td>\n",
       "      <td>0.0</td>\n",
       "      <td>0.0</td>\n",
       "      <td>0.0</td>\n",
       "      <td>0.0</td>\n",
       "      <td>0.0</td>\n",
       "      <td>0.0</td>\n",
       "      <td>0.0</td>\n",
       "      <td>0.0</td>\n",
       "      <td>...</td>\n",
       "      <td>0.0</td>\n",
       "      <td>1.0</td>\n",
       "      <td>0.0</td>\n",
       "      <td>0.0</td>\n",
       "      <td>0.0</td>\n",
       "      <td>0.0</td>\n",
       "      <td>0.0</td>\n",
       "      <td>0.0</td>\n",
       "      <td>0.0</td>\n",
       "      <td>0.0</td>\n",
       "    </tr>\n",
       "    <tr>\n",
       "      <th>-12.933333</th>\n",
       "      <td>0.0</td>\n",
       "      <td>0.0</td>\n",
       "      <td>0.0</td>\n",
       "      <td>0.0</td>\n",
       "      <td>0.0</td>\n",
       "      <td>0.0</td>\n",
       "      <td>1.0</td>\n",
       "      <td>0.0</td>\n",
       "      <td>0.0</td>\n",
       "      <td>0.0</td>\n",
       "      <td>...</td>\n",
       "      <td>0.0</td>\n",
       "      <td>1.0</td>\n",
       "      <td>0.0</td>\n",
       "      <td>0.0</td>\n",
       "      <td>0.0</td>\n",
       "      <td>0.0</td>\n",
       "      <td>0.0</td>\n",
       "      <td>0.0</td>\n",
       "      <td>0.0</td>\n",
       "      <td>0.0</td>\n",
       "    </tr>\n",
       "    <tr>\n",
       "      <th>-12.916667</th>\n",
       "      <td>0.0</td>\n",
       "      <td>0.0</td>\n",
       "      <td>0.0</td>\n",
       "      <td>0.0</td>\n",
       "      <td>0.0</td>\n",
       "      <td>0.0</td>\n",
       "      <td>1.0</td>\n",
       "      <td>0.0</td>\n",
       "      <td>0.0</td>\n",
       "      <td>0.0</td>\n",
       "      <td>...</td>\n",
       "      <td>0.0</td>\n",
       "      <td>1.0</td>\n",
       "      <td>0.0</td>\n",
       "      <td>0.0</td>\n",
       "      <td>0.0</td>\n",
       "      <td>0.0</td>\n",
       "      <td>0.0</td>\n",
       "      <td>0.0</td>\n",
       "      <td>0.0</td>\n",
       "      <td>0.0</td>\n",
       "    </tr>\n",
       "    <tr>\n",
       "      <th>-12.466667</th>\n",
       "      <td>0.0</td>\n",
       "      <td>0.0</td>\n",
       "      <td>0.0</td>\n",
       "      <td>0.0</td>\n",
       "      <td>0.0</td>\n",
       "      <td>0.0</td>\n",
       "      <td>0.0</td>\n",
       "      <td>0.0</td>\n",
       "      <td>0.0</td>\n",
       "      <td>0.0</td>\n",
       "      <td>...</td>\n",
       "      <td>0.0</td>\n",
       "      <td>0.0</td>\n",
       "      <td>0.0</td>\n",
       "      <td>0.0</td>\n",
       "      <td>0.0</td>\n",
       "      <td>0.0</td>\n",
       "      <td>0.0</td>\n",
       "      <td>0.0</td>\n",
       "      <td>0.0</td>\n",
       "      <td>0.0</td>\n",
       "    </tr>\n",
       "  </tbody>\n",
       "</table>\n",
       "<p>5 rows × 135 columns</p>\n",
       "</div>"
      ],
      "text/plain": [
       "feeder            one                                              ...   \\\n",
       "season         summer                                              ...    \n",
       "strategy   no_control                                              ...    \n",
       "control            0                                               ...    \n",
       "day                1    2    3    4    5    6    7    8    9    26 ...    \n",
       "shift                                                              ...    \n",
       "-12.966667        0.0  0.0  0.0  0.0  0.0  0.0  0.0  0.0  0.0  0.0 ...    \n",
       "-12.950000        0.0  0.0  0.0  0.0  0.0  0.0  0.0  0.0  0.0  0.0 ...    \n",
       "-12.933333        0.0  0.0  0.0  0.0  0.0  0.0  1.0  0.0  0.0  0.0 ...    \n",
       "-12.916667        0.0  0.0  0.0  0.0  0.0  0.0  1.0  0.0  0.0  0.0 ...    \n",
       "-12.466667        0.0  0.0  0.0  0.0  0.0  0.0  0.0  0.0  0.0  0.0 ...    \n",
       "\n",
       "feeder                                                          \n",
       "season                                                          \n",
       "strategy   smooth                                               \n",
       "control        75                                               \n",
       "day            6    7    8    9    26   27   28   29   30   31  \n",
       "shift                                                           \n",
       "-12.966667    0.0  1.0  0.0  0.0  0.0  0.0  0.0  0.0  0.0  0.0  \n",
       "-12.950000    0.0  1.0  0.0  0.0  0.0  0.0  0.0  0.0  0.0  0.0  \n",
       "-12.933333    0.0  1.0  0.0  0.0  0.0  0.0  0.0  0.0  0.0  0.0  \n",
       "-12.916667    0.0  1.0  0.0  0.0  0.0  0.0  0.0  0.0  0.0  0.0  \n",
       "-12.466667    0.0  0.0  0.0  0.0  0.0  0.0  0.0  0.0  0.0  0.0  \n",
       "\n",
       "[5 rows x 135 columns]"
      ]
     },
     "execution_count": 156,
     "metadata": {},
     "output_type": "execute_result"
    }
   ],
   "source": [
    "final = final.sum(axis=1, level=[0,1,2,3,4]).fillna(0)\n",
    "final.head()"
   ]
  },
  {
   "cell_type": "code",
   "execution_count": 167,
   "metadata": {
    "collapsed": false
   },
   "outputs": [
    {
     "data": {
      "text/html": [
       "<div>\n",
       "<table border=\"1\" class=\"dataframe\">\n",
       "  <thead>\n",
       "    <tr>\n",
       "      <th>feeder</th>\n",
       "      <th colspan=\"21\" halign=\"left\">one</th>\n",
       "    </tr>\n",
       "    <tr>\n",
       "      <th>season</th>\n",
       "      <th colspan=\"21\" halign=\"left\">summer</th>\n",
       "    </tr>\n",
       "    <tr>\n",
       "      <th>strategy</th>\n",
       "      <th colspan=\"10\" halign=\"left\">no_control</th>\n",
       "      <th>...</th>\n",
       "      <th colspan=\"10\" halign=\"left\">smooth</th>\n",
       "    </tr>\n",
       "    <tr>\n",
       "      <th>control</th>\n",
       "      <th colspan=\"10\" halign=\"left\">0</th>\n",
       "      <th>...</th>\n",
       "      <th colspan=\"10\" halign=\"left\">75</th>\n",
       "    </tr>\n",
       "    <tr>\n",
       "      <th>day</th>\n",
       "      <th>1</th>\n",
       "      <th>2</th>\n",
       "      <th>3</th>\n",
       "      <th>4</th>\n",
       "      <th>5</th>\n",
       "      <th>6</th>\n",
       "      <th>7</th>\n",
       "      <th>8</th>\n",
       "      <th>9</th>\n",
       "      <th>26</th>\n",
       "      <th>...</th>\n",
       "      <th>6</th>\n",
       "      <th>7</th>\n",
       "      <th>8</th>\n",
       "      <th>9</th>\n",
       "      <th>26</th>\n",
       "      <th>27</th>\n",
       "      <th>28</th>\n",
       "      <th>29</th>\n",
       "      <th>30</th>\n",
       "      <th>31</th>\n",
       "    </tr>\n",
       "  </thead>\n",
       "  <tbody>\n",
       "    <tr>\n",
       "      <th>-13.00</th>\n",
       "      <td>0.0</td>\n",
       "      <td>0.0</td>\n",
       "      <td>0.0</td>\n",
       "      <td>0.0</td>\n",
       "      <td>0.0</td>\n",
       "      <td>0.0</td>\n",
       "      <td>2.0</td>\n",
       "      <td>0.0</td>\n",
       "      <td>0.0</td>\n",
       "      <td>0.0</td>\n",
       "      <td>...</td>\n",
       "      <td>0.0</td>\n",
       "      <td>4.0</td>\n",
       "      <td>0.0</td>\n",
       "      <td>0.0</td>\n",
       "      <td>0.0</td>\n",
       "      <td>0.0</td>\n",
       "      <td>0.0</td>\n",
       "      <td>0.0</td>\n",
       "      <td>0.0</td>\n",
       "      <td>0.0</td>\n",
       "    </tr>\n",
       "    <tr>\n",
       "      <th>-12.75</th>\n",
       "      <td>0.0</td>\n",
       "      <td>0.0</td>\n",
       "      <td>0.0</td>\n",
       "      <td>0.0</td>\n",
       "      <td>0.0</td>\n",
       "      <td>0.0</td>\n",
       "      <td>0.0</td>\n",
       "      <td>0.0</td>\n",
       "      <td>0.0</td>\n",
       "      <td>0.0</td>\n",
       "      <td>...</td>\n",
       "      <td>0.0</td>\n",
       "      <td>0.0</td>\n",
       "      <td>0.0</td>\n",
       "      <td>0.0</td>\n",
       "      <td>0.0</td>\n",
       "      <td>0.0</td>\n",
       "      <td>0.0</td>\n",
       "      <td>0.0</td>\n",
       "      <td>0.0</td>\n",
       "      <td>0.0</td>\n",
       "    </tr>\n",
       "    <tr>\n",
       "      <th>-12.50</th>\n",
       "      <td>0.0</td>\n",
       "      <td>0.0</td>\n",
       "      <td>0.0</td>\n",
       "      <td>0.0</td>\n",
       "      <td>0.0</td>\n",
       "      <td>0.0</td>\n",
       "      <td>0.0</td>\n",
       "      <td>0.0</td>\n",
       "      <td>0.0</td>\n",
       "      <td>0.0</td>\n",
       "      <td>...</td>\n",
       "      <td>0.0</td>\n",
       "      <td>0.0</td>\n",
       "      <td>0.0</td>\n",
       "      <td>0.0</td>\n",
       "      <td>0.0</td>\n",
       "      <td>0.0</td>\n",
       "      <td>0.0</td>\n",
       "      <td>0.0</td>\n",
       "      <td>0.0</td>\n",
       "      <td>0.0</td>\n",
       "    </tr>\n",
       "    <tr>\n",
       "      <th>-12.25</th>\n",
       "      <td>0.0</td>\n",
       "      <td>0.0</td>\n",
       "      <td>0.0</td>\n",
       "      <td>0.0</td>\n",
       "      <td>0.0</td>\n",
       "      <td>0.0</td>\n",
       "      <td>0.0</td>\n",
       "      <td>0.0</td>\n",
       "      <td>0.0</td>\n",
       "      <td>0.0</td>\n",
       "      <td>...</td>\n",
       "      <td>0.0</td>\n",
       "      <td>0.0</td>\n",
       "      <td>0.0</td>\n",
       "      <td>0.0</td>\n",
       "      <td>0.0</td>\n",
       "      <td>0.0</td>\n",
       "      <td>0.0</td>\n",
       "      <td>0.0</td>\n",
       "      <td>0.0</td>\n",
       "      <td>0.0</td>\n",
       "    </tr>\n",
       "    <tr>\n",
       "      <th>-12.00</th>\n",
       "      <td>0.0</td>\n",
       "      <td>0.0</td>\n",
       "      <td>0.0</td>\n",
       "      <td>0.0</td>\n",
       "      <td>0.0</td>\n",
       "      <td>0.0</td>\n",
       "      <td>0.0</td>\n",
       "      <td>0.0</td>\n",
       "      <td>0.0</td>\n",
       "      <td>0.0</td>\n",
       "      <td>...</td>\n",
       "      <td>0.0</td>\n",
       "      <td>0.0</td>\n",
       "      <td>0.0</td>\n",
       "      <td>0.0</td>\n",
       "      <td>0.0</td>\n",
       "      <td>0.0</td>\n",
       "      <td>0.0</td>\n",
       "      <td>0.0</td>\n",
       "      <td>0.0</td>\n",
       "      <td>0.0</td>\n",
       "    </tr>\n",
       "  </tbody>\n",
       "</table>\n",
       "<p>5 rows × 135 columns</p>\n",
       "</div>"
      ],
      "text/plain": [
       "feeder          one                                              ...          \\\n",
       "season       summer                                              ...           \n",
       "strategy no_control                                              ...  smooth   \n",
       "control          0                                               ...      75   \n",
       "day              1    2    3    4    5    6    7    8    9    26 ...      6    \n",
       "-13.00          0.0  0.0  0.0  0.0  0.0  0.0  2.0  0.0  0.0  0.0 ...     0.0   \n",
       "-12.75          0.0  0.0  0.0  0.0  0.0  0.0  0.0  0.0  0.0  0.0 ...     0.0   \n",
       "-12.50          0.0  0.0  0.0  0.0  0.0  0.0  0.0  0.0  0.0  0.0 ...     0.0   \n",
       "-12.25          0.0  0.0  0.0  0.0  0.0  0.0  0.0  0.0  0.0  0.0 ...     0.0   \n",
       "-12.00          0.0  0.0  0.0  0.0  0.0  0.0  0.0  0.0  0.0  0.0 ...     0.0   \n",
       "\n",
       "feeder                                                 \n",
       "season                                                 \n",
       "strategy                                               \n",
       "control                                                \n",
       "day        7    8    9    26   27   28   29   30   31  \n",
       "-13.00    4.0  0.0  0.0  0.0  0.0  0.0  0.0  0.0  0.0  \n",
       "-12.75    0.0  0.0  0.0  0.0  0.0  0.0  0.0  0.0  0.0  \n",
       "-12.50    0.0  0.0  0.0  0.0  0.0  0.0  0.0  0.0  0.0  \n",
       "-12.25    0.0  0.0  0.0  0.0  0.0  0.0  0.0  0.0  0.0  \n",
       "-12.00    0.0  0.0  0.0  0.0  0.0  0.0  0.0  0.0  0.0  \n",
       "\n",
       "[5 rows x 135 columns]"
      ]
     },
     "execution_count": 167,
     "metadata": {},
     "output_type": "execute_result"
    }
   ],
   "source": [
    "dt_index = pd.to_datetime(\"2013-07-01 13:00:00\") + final.index.map(lambda x: datetime.timedelta(hours=x))\n",
    "sample = final.set_index(dt_index).resample('15min').sum().fillna(0)\n",
    "sample.index = (sample.index - pd.to_datetime(\"2013-07-01 13:00:00\")).map(lambda x: x.total_seconds()/60./60.)\n",
    "sample.head()"
   ]
  },
  {
   "cell_type": "code",
   "execution_count": 168,
   "metadata": {
    "collapsed": false
   },
   "outputs": [
    {
     "data": {
      "text/html": [
       "<div>\n",
       "<table border=\"1\" class=\"dataframe\">\n",
       "  <thead>\n",
       "    <tr>\n",
       "      <th>feeder</th>\n",
       "      <th colspan=\"9\" halign=\"left\">one</th>\n",
       "    </tr>\n",
       "    <tr>\n",
       "      <th>season</th>\n",
       "      <th colspan=\"9\" halign=\"left\">summer</th>\n",
       "    </tr>\n",
       "    <tr>\n",
       "      <th>strategy</th>\n",
       "      <th>no_control</th>\n",
       "      <th colspan=\"4\" halign=\"left\">single_bucket</th>\n",
       "      <th colspan=\"4\" halign=\"left\">smooth</th>\n",
       "    </tr>\n",
       "    <tr>\n",
       "      <th>control</th>\n",
       "      <th>0</th>\n",
       "      <th>6</th>\n",
       "      <th>25</th>\n",
       "      <th>50</th>\n",
       "      <th>75</th>\n",
       "      <th>6</th>\n",
       "      <th>25</th>\n",
       "      <th>50</th>\n",
       "      <th>75</th>\n",
       "    </tr>\n",
       "  </thead>\n",
       "  <tbody>\n",
       "    <tr>\n",
       "      <th>-13.00</th>\n",
       "      <td>0.133333</td>\n",
       "      <td>0.133333</td>\n",
       "      <td>0.133333</td>\n",
       "      <td>0.133333</td>\n",
       "      <td>0.133333</td>\n",
       "      <td>0.133333</td>\n",
       "      <td>0.133333</td>\n",
       "      <td>0.2</td>\n",
       "      <td>0.266667</td>\n",
       "    </tr>\n",
       "    <tr>\n",
       "      <th>-12.75</th>\n",
       "      <td>0.000000</td>\n",
       "      <td>0.000000</td>\n",
       "      <td>0.000000</td>\n",
       "      <td>0.000000</td>\n",
       "      <td>0.000000</td>\n",
       "      <td>0.000000</td>\n",
       "      <td>0.000000</td>\n",
       "      <td>0.0</td>\n",
       "      <td>0.000000</td>\n",
       "    </tr>\n",
       "    <tr>\n",
       "      <th>-12.50</th>\n",
       "      <td>0.000000</td>\n",
       "      <td>0.000000</td>\n",
       "      <td>0.000000</td>\n",
       "      <td>0.000000</td>\n",
       "      <td>0.000000</td>\n",
       "      <td>0.000000</td>\n",
       "      <td>0.000000</td>\n",
       "      <td>0.0</td>\n",
       "      <td>0.133333</td>\n",
       "    </tr>\n",
       "    <tr>\n",
       "      <th>-12.25</th>\n",
       "      <td>0.000000</td>\n",
       "      <td>0.000000</td>\n",
       "      <td>0.000000</td>\n",
       "      <td>0.000000</td>\n",
       "      <td>0.000000</td>\n",
       "      <td>0.000000</td>\n",
       "      <td>0.000000</td>\n",
       "      <td>0.0</td>\n",
       "      <td>0.000000</td>\n",
       "    </tr>\n",
       "    <tr>\n",
       "      <th>-12.00</th>\n",
       "      <td>0.000000</td>\n",
       "      <td>0.000000</td>\n",
       "      <td>0.000000</td>\n",
       "      <td>0.000000</td>\n",
       "      <td>0.000000</td>\n",
       "      <td>0.000000</td>\n",
       "      <td>0.000000</td>\n",
       "      <td>0.0</td>\n",
       "      <td>0.000000</td>\n",
       "    </tr>\n",
       "  </tbody>\n",
       "</table>\n",
       "</div>"
      ],
      "text/plain": [
       "feeder          one                                                        \\\n",
       "season       summer                                                         \n",
       "strategy no_control single_bucket                                  smooth   \n",
       "control          0             6         25        50        75        6    \n",
       "-13.00     0.133333      0.133333  0.133333  0.133333  0.133333  0.133333   \n",
       "-12.75     0.000000      0.000000  0.000000  0.000000  0.000000  0.000000   \n",
       "-12.50     0.000000      0.000000  0.000000  0.000000  0.000000  0.000000   \n",
       "-12.25     0.000000      0.000000  0.000000  0.000000  0.000000  0.000000   \n",
       "-12.00     0.000000      0.000000  0.000000  0.000000  0.000000  0.000000   \n",
       "\n",
       "feeder                             \n",
       "season                             \n",
       "strategy                           \n",
       "control         25   50        75  \n",
       "-13.00    0.133333  0.2  0.266667  \n",
       "-12.75    0.000000  0.0  0.000000  \n",
       "-12.50    0.000000  0.0  0.133333  \n",
       "-12.25    0.000000  0.0  0.000000  \n",
       "-12.00    0.000000  0.0  0.000000  "
      ]
     },
     "execution_count": 168,
     "metadata": {},
     "output_type": "execute_result"
    }
   ],
   "source": [
    "sample = sample.mean(axis=1, level=[0,1,2,3])\n",
    "sample.head()"
   ]
  },
  {
   "cell_type": "code",
   "execution_count": 171,
   "metadata": {
    "collapsed": false
   },
   "outputs": [
    {
     "data": {
      "text/plain": [
       "<matplotlib.axes._subplots.AxesSubplot at 0x11586b450>"
      ]
     },
     "execution_count": 171,
     "metadata": {},
     "output_type": "execute_result"
    },
    {
     "data": {
      "image/png": "[encoded data removed]",
      "text/plain": [
       "<matplotlib.figure.Figure at 0x114daf890>"
      ]
     },
     "metadata": {},
     "output_type": "display_data"
    }
   ],
   "source": [
    "sample[('one', 'summer', 'no_control')].plot(figsize=(8, 5))"
   ]
  },
  {
   "cell_type": "markdown",
   "metadata": {},
   "source": [
    "Look at all scenarios"
   ]
  },
  {
   "cell_type": "code",
   "execution_count": 173,
   "metadata": {
    "collapsed": false
   },
   "outputs": [
    {
     "data": {
      "image/png": "[encoded data removed]",
      "text/plain": [
       "<matplotlib.figure.Figure at 0x118d87fd0>"
      ]
     },
     "metadata": {},
     "output_type": "display_data"
    }
   ],
   "source": [
    "fig, ax = plt.subplots(2,1, figsize=(10,6), sharex=True, sharey=True)\n",
    "\n",
    "sample[('one', 'summer', 'smooth')].plot(ax=ax[0])\n",
    "sample[('one', 'summer', 'single_bucket')].plot(ax=ax[1])\n",
    "\n",
    "plt.tight_layout()"
   ]
  },
  {
   "cell_type": "code",
   "execution_count": 175,
   "metadata": {
    "collapsed": false
   },
   "outputs": [
    {
     "data": {
      "text/plain": [
       "<matplotlib.axes._subplots.AxesSubplot at 0x119b5aa10>"
      ]
     },
     "execution_count": 175,
     "metadata": {},
     "output_type": "execute_result"
    },
    {
     "data": {
      "image/png": "[encoded data removed]",
      "text/plain": [
       "<matplotlib.figure.Figure at 0x1177a5450>"
      ]
     },
     "metadata": {},
     "output_type": "display_data"
    }
   ],
   "source": [
    "sample['one'].cumsum().plot(figsize=(8,6))"
   ]
  },
  {
   "cell_type": "markdown",
   "metadata": {},
   "source": [
    "## Question #2\n",
    "\n",
    "### What is the average cumulative % of customers impacted as a function of time?\n",
    "\n",
    "Count a customer as unsatisfied only once..."
   ]
  },
  {
   "cell_type": "markdown",
   "metadata": {},
   "source": [
    "Warm up"
   ]
  },
  {
   "cell_type": "code",
   "execution_count": 176,
   "metadata": {
    "collapsed": true
   },
   "outputs": [],
   "source": [
    "qry = [\"feeder=='one'\",\n",
    "       \"season=='summer'\",\n",
    "       \"strategy=='no_control'\",\n",
    "       \"control==0\",\n",
    "       \"attribute=='shower demand 110'\"]\n",
    "\n",
    "tmp = df.query(\" and \".join(qry))"
   ]
  },
  {
   "cell_type": "code",
   "execution_count": 177,
   "metadata": {
    "collapsed": false
   },
   "outputs": [
    {
     "data": {
      "text/html": [
       "<div>\n",
       "<table border=\"1\" class=\"dataframe\">\n",
       "  <thead>\n",
       "    <tr>\n",
       "      <th>day</th>\n",
       "      <th colspan=\"10\" halign=\"left\">1</th>\n",
       "      <th>...</th>\n",
       "      <th colspan=\"10\" halign=\"left\">31</th>\n",
       "    </tr>\n",
       "    <tr>\n",
       "      <th>name</th>\n",
       "      <th>zmq_waterheater_19</th>\n",
       "      <th>zmq_waterheater_194</th>\n",
       "      <th>zmq_waterheater_288</th>\n",
       "      <th>zmq_waterheater_393</th>\n",
       "      <th>zmq_waterheater_411</th>\n",
       "      <th>zmq_waterheater_468</th>\n",
       "      <th>zmq_waterheater_5</th>\n",
       "      <th>zmq_waterheater_505</th>\n",
       "      <th>zmq_waterheater_510</th>\n",
       "      <th>zmq_waterheater_561</th>\n",
       "      <th>...</th>\n",
       "      <th>zmq_waterheater_721</th>\n",
       "      <th>zmq_waterheater_744</th>\n",
       "      <th>zmq_waterheater_802</th>\n",
       "      <th>zmq_waterheater_849</th>\n",
       "      <th>zmq_waterheater_863</th>\n",
       "      <th>zmq_waterheater_876</th>\n",
       "      <th>zmq_waterheater_908</th>\n",
       "      <th>zmq_waterheater_935</th>\n",
       "      <th>zmq_waterheater_946</th>\n",
       "      <th>zmq_waterheater_971</th>\n",
       "    </tr>\n",
       "    <tr>\n",
       "      <th>shift</th>\n",
       "      <th></th>\n",
       "      <th></th>\n",
       "      <th></th>\n",
       "      <th></th>\n",
       "      <th></th>\n",
       "      <th></th>\n",
       "      <th></th>\n",
       "      <th></th>\n",
       "      <th></th>\n",
       "      <th></th>\n",
       "      <th></th>\n",
       "      <th></th>\n",
       "      <th></th>\n",
       "      <th></th>\n",
       "      <th></th>\n",
       "      <th></th>\n",
       "      <th></th>\n",
       "      <th></th>\n",
       "      <th></th>\n",
       "      <th></th>\n",
       "      <th></th>\n",
       "    </tr>\n",
       "  </thead>\n",
       "  <tbody>\n",
       "    <tr>\n",
       "      <th>-12.933333</th>\n",
       "      <td>NaN</td>\n",
       "      <td>NaN</td>\n",
       "      <td>NaN</td>\n",
       "      <td>NaN</td>\n",
       "      <td>NaN</td>\n",
       "      <td>NaN</td>\n",
       "      <td>NaN</td>\n",
       "      <td>NaN</td>\n",
       "      <td>NaN</td>\n",
       "      <td>NaN</td>\n",
       "      <td>...</td>\n",
       "      <td>NaN</td>\n",
       "      <td>NaN</td>\n",
       "      <td>NaN</td>\n",
       "      <td>NaN</td>\n",
       "      <td>NaN</td>\n",
       "      <td>NaN</td>\n",
       "      <td>NaN</td>\n",
       "      <td>NaN</td>\n",
       "      <td>NaN</td>\n",
       "      <td>NaN</td>\n",
       "    </tr>\n",
       "    <tr>\n",
       "      <th>-12.916667</th>\n",
       "      <td>NaN</td>\n",
       "      <td>NaN</td>\n",
       "      <td>NaN</td>\n",
       "      <td>NaN</td>\n",
       "      <td>NaN</td>\n",
       "      <td>NaN</td>\n",
       "      <td>NaN</td>\n",
       "      <td>NaN</td>\n",
       "      <td>NaN</td>\n",
       "      <td>NaN</td>\n",
       "      <td>...</td>\n",
       "      <td>NaN</td>\n",
       "      <td>NaN</td>\n",
       "      <td>NaN</td>\n",
       "      <td>NaN</td>\n",
       "      <td>NaN</td>\n",
       "      <td>NaN</td>\n",
       "      <td>NaN</td>\n",
       "      <td>NaN</td>\n",
       "      <td>NaN</td>\n",
       "      <td>NaN</td>\n",
       "    </tr>\n",
       "    <tr>\n",
       "      <th>-11.366667</th>\n",
       "      <td>NaN</td>\n",
       "      <td>NaN</td>\n",
       "      <td>NaN</td>\n",
       "      <td>NaN</td>\n",
       "      <td>NaN</td>\n",
       "      <td>NaN</td>\n",
       "      <td>NaN</td>\n",
       "      <td>NaN</td>\n",
       "      <td>NaN</td>\n",
       "      <td>NaN</td>\n",
       "      <td>...</td>\n",
       "      <td>NaN</td>\n",
       "      <td>NaN</td>\n",
       "      <td>NaN</td>\n",
       "      <td>NaN</td>\n",
       "      <td>NaN</td>\n",
       "      <td>NaN</td>\n",
       "      <td>NaN</td>\n",
       "      <td>NaN</td>\n",
       "      <td>NaN</td>\n",
       "      <td>NaN</td>\n",
       "    </tr>\n",
       "    <tr>\n",
       "      <th>-11.350000</th>\n",
       "      <td>NaN</td>\n",
       "      <td>NaN</td>\n",
       "      <td>NaN</td>\n",
       "      <td>NaN</td>\n",
       "      <td>NaN</td>\n",
       "      <td>NaN</td>\n",
       "      <td>NaN</td>\n",
       "      <td>NaN</td>\n",
       "      <td>NaN</td>\n",
       "      <td>NaN</td>\n",
       "      <td>...</td>\n",
       "      <td>NaN</td>\n",
       "      <td>NaN</td>\n",
       "      <td>NaN</td>\n",
       "      <td>NaN</td>\n",
       "      <td>NaN</td>\n",
       "      <td>NaN</td>\n",
       "      <td>1.0</td>\n",
       "      <td>NaN</td>\n",
       "      <td>NaN</td>\n",
       "      <td>NaN</td>\n",
       "    </tr>\n",
       "    <tr>\n",
       "      <th>-11.333333</th>\n",
       "      <td>NaN</td>\n",
       "      <td>NaN</td>\n",
       "      <td>NaN</td>\n",
       "      <td>NaN</td>\n",
       "      <td>NaN</td>\n",
       "      <td>NaN</td>\n",
       "      <td>NaN</td>\n",
       "      <td>NaN</td>\n",
       "      <td>NaN</td>\n",
       "      <td>NaN</td>\n",
       "      <td>...</td>\n",
       "      <td>NaN</td>\n",
       "      <td>NaN</td>\n",
       "      <td>NaN</td>\n",
       "      <td>NaN</td>\n",
       "      <td>NaN</td>\n",
       "      <td>NaN</td>\n",
       "      <td>1.0</td>\n",
       "      <td>NaN</td>\n",
       "      <td>NaN</td>\n",
       "      <td>NaN</td>\n",
       "    </tr>\n",
       "  </tbody>\n",
       "</table>\n",
       "<p>5 rows × 445 columns</p>\n",
       "</div>"
      ],
      "text/plain": [
       "day                        1                                           \\\n",
       "name       zmq_waterheater_19 zmq_waterheater_194 zmq_waterheater_288   \n",
       "shift                                                                   \n",
       "-12.933333                NaN                 NaN                 NaN   \n",
       "-12.916667                NaN                 NaN                 NaN   \n",
       "-11.366667                NaN                 NaN                 NaN   \n",
       "-11.350000                NaN                 NaN                 NaN   \n",
       "-11.333333                NaN                 NaN                 NaN   \n",
       "\n",
       "day                                                                     \\\n",
       "name       zmq_waterheater_393 zmq_waterheater_411 zmq_waterheater_468   \n",
       "shift                                                                    \n",
       "-12.933333                 NaN                 NaN                 NaN   \n",
       "-12.916667                 NaN                 NaN                 NaN   \n",
       "-11.366667                 NaN                 NaN                 NaN   \n",
       "-11.350000                 NaN                 NaN                 NaN   \n",
       "-11.333333                 NaN                 NaN                 NaN   \n",
       "\n",
       "day                                                                   \\\n",
       "name       zmq_waterheater_5 zmq_waterheater_505 zmq_waterheater_510   \n",
       "shift                                                                  \n",
       "-12.933333               NaN                 NaN                 NaN   \n",
       "-12.916667               NaN                 NaN                 NaN   \n",
       "-11.366667               NaN                 NaN                 NaN   \n",
       "-11.350000               NaN                 NaN                 NaN   \n",
       "-11.333333               NaN                 NaN                 NaN   \n",
       "\n",
       "day                                    ...                          31  \\\n",
       "name       zmq_waterheater_561         ...         zmq_waterheater_721   \n",
       "shift                                  ...                               \n",
       "-12.933333                 NaN         ...                         NaN   \n",
       "-12.916667                 NaN         ...                         NaN   \n",
       "-11.366667                 NaN         ...                         NaN   \n",
       "-11.350000                 NaN         ...                         NaN   \n",
       "-11.333333                 NaN         ...                         NaN   \n",
       "\n",
       "day                                                                     \\\n",
       "name       zmq_waterheater_744 zmq_waterheater_802 zmq_waterheater_849   \n",
       "shift                                                                    \n",
       "-12.933333                 NaN                 NaN                 NaN   \n",
       "-12.916667                 NaN                 NaN                 NaN   \n",
       "-11.366667                 NaN                 NaN                 NaN   \n",
       "-11.350000                 NaN                 NaN                 NaN   \n",
       "-11.333333                 NaN                 NaN                 NaN   \n",
       "\n",
       "day                                                                     \\\n",
       "name       zmq_waterheater_863 zmq_waterheater_876 zmq_waterheater_908   \n",
       "shift                                                                    \n",
       "-12.933333                 NaN                 NaN                 NaN   \n",
       "-12.916667                 NaN                 NaN                 NaN   \n",
       "-11.366667                 NaN                 NaN                 NaN   \n",
       "-11.350000                 NaN                 NaN                 1.0   \n",
       "-11.333333                 NaN                 NaN                 1.0   \n",
       "\n",
       "day                                                                     \n",
       "name       zmq_waterheater_935 zmq_waterheater_946 zmq_waterheater_971  \n",
       "shift                                                                   \n",
       "-12.933333                 NaN                 NaN                 NaN  \n",
       "-12.916667                 NaN                 NaN                 NaN  \n",
       "-11.366667                 NaN                 NaN                 NaN  \n",
       "-11.350000                 NaN                 NaN                 NaN  \n",
       "-11.333333                 NaN                 NaN                 NaN  \n",
       "\n",
       "[5 rows x 445 columns]"
      ]
     },
     "execution_count": 177,
     "metadata": {},
     "output_type": "execute_result"
    }
   ],
   "source": [
    "counts = tmp.pivot_table(index='shift', columns=['day', 'name'], values='value', aggfunc='count')\n",
    "counts.head()"
   ]
  },
  {
   "cell_type": "code",
   "execution_count": 179,
   "metadata": {
    "collapsed": true
   },
   "outputs": [],
   "source": [
    "def fill_first_index(df):\n",
    "    zeros = np.zeros(df.shape[0])\n",
    "    index = df.first_valid_index()\n",
    "\n",
    "    if index is not None:\n",
    "        tmp = pd.Series(zeros, index=df.index)\n",
    "        tmp.loc[tmp.index==index] = 1.0\n",
    "        return tmp\n",
    "    \n",
    "    return pd.Series(zeros, index=df.index)"
   ]
  },
  {
   "cell_type": "markdown",
   "metadata": {},
   "source": [
    "We can `apply` this to the columns (`axis=0`) of our dataframe."
   ]
  },
  {
   "cell_type": "code",
   "execution_count": 180,
   "metadata": {
    "collapsed": false
   },
   "outputs": [
    {
     "data": {
      "text/html": [
       "<div>\n",
       "<table border=\"1\" class=\"dataframe\">\n",
       "  <thead>\n",
       "    <tr>\n",
       "      <th>day</th>\n",
       "      <th colspan=\"10\" halign=\"left\">1</th>\n",
       "      <th>...</th>\n",
       "      <th colspan=\"10\" halign=\"left\">31</th>\n",
       "    </tr>\n",
       "    <tr>\n",
       "      <th>name</th>\n",
       "      <th>zmq_waterheater_19</th>\n",
       "      <th>zmq_waterheater_194</th>\n",
       "      <th>zmq_waterheater_288</th>\n",
       "      <th>zmq_waterheater_393</th>\n",
       "      <th>zmq_waterheater_411</th>\n",
       "      <th>zmq_waterheater_468</th>\n",
       "      <th>zmq_waterheater_5</th>\n",
       "      <th>zmq_waterheater_505</th>\n",
       "      <th>zmq_waterheater_510</th>\n",
       "      <th>zmq_waterheater_561</th>\n",
       "      <th>...</th>\n",
       "      <th>zmq_waterheater_721</th>\n",
       "      <th>zmq_waterheater_744</th>\n",
       "      <th>zmq_waterheater_802</th>\n",
       "      <th>zmq_waterheater_849</th>\n",
       "      <th>zmq_waterheater_863</th>\n",
       "      <th>zmq_waterheater_876</th>\n",
       "      <th>zmq_waterheater_908</th>\n",
       "      <th>zmq_waterheater_935</th>\n",
       "      <th>zmq_waterheater_946</th>\n",
       "      <th>zmq_waterheater_971</th>\n",
       "    </tr>\n",
       "    <tr>\n",
       "      <th>shift</th>\n",
       "      <th></th>\n",
       "      <th></th>\n",
       "      <th></th>\n",
       "      <th></th>\n",
       "      <th></th>\n",
       "      <th></th>\n",
       "      <th></th>\n",
       "      <th></th>\n",
       "      <th></th>\n",
       "      <th></th>\n",
       "      <th></th>\n",
       "      <th></th>\n",
       "      <th></th>\n",
       "      <th></th>\n",
       "      <th></th>\n",
       "      <th></th>\n",
       "      <th></th>\n",
       "      <th></th>\n",
       "      <th></th>\n",
       "      <th></th>\n",
       "      <th></th>\n",
       "    </tr>\n",
       "  </thead>\n",
       "  <tbody>\n",
       "    <tr>\n",
       "      <th>-12.933333</th>\n",
       "      <td>0.0</td>\n",
       "      <td>0.0</td>\n",
       "      <td>0.0</td>\n",
       "      <td>0.0</td>\n",
       "      <td>0.0</td>\n",
       "      <td>0.0</td>\n",
       "      <td>0.0</td>\n",
       "      <td>0.0</td>\n",
       "      <td>0.0</td>\n",
       "      <td>0.0</td>\n",
       "      <td>...</td>\n",
       "      <td>0.0</td>\n",
       "      <td>0.0</td>\n",
       "      <td>0.0</td>\n",
       "      <td>0.0</td>\n",
       "      <td>0.0</td>\n",
       "      <td>0.0</td>\n",
       "      <td>0.0</td>\n",
       "      <td>0.0</td>\n",
       "      <td>0.0</td>\n",
       "      <td>0.0</td>\n",
       "    </tr>\n",
       "    <tr>\n",
       "      <th>-12.916667</th>\n",
       "      <td>0.0</td>\n",
       "      <td>0.0</td>\n",
       "      <td>0.0</td>\n",
       "      <td>0.0</td>\n",
       "      <td>0.0</td>\n",
       "      <td>0.0</td>\n",
       "      <td>0.0</td>\n",
       "      <td>0.0</td>\n",
       "      <td>0.0</td>\n",
       "      <td>0.0</td>\n",
       "      <td>...</td>\n",
       "      <td>0.0</td>\n",
       "      <td>0.0</td>\n",
       "      <td>0.0</td>\n",
       "      <td>0.0</td>\n",
       "      <td>0.0</td>\n",
       "      <td>0.0</td>\n",
       "      <td>0.0</td>\n",
       "      <td>0.0</td>\n",
       "      <td>0.0</td>\n",
       "      <td>0.0</td>\n",
       "    </tr>\n",
       "    <tr>\n",
       "      <th>-11.366667</th>\n",
       "      <td>0.0</td>\n",
       "      <td>0.0</td>\n",
       "      <td>0.0</td>\n",
       "      <td>0.0</td>\n",
       "      <td>0.0</td>\n",
       "      <td>0.0</td>\n",
       "      <td>0.0</td>\n",
       "      <td>0.0</td>\n",
       "      <td>0.0</td>\n",
       "      <td>0.0</td>\n",
       "      <td>...</td>\n",
       "      <td>0.0</td>\n",
       "      <td>0.0</td>\n",
       "      <td>0.0</td>\n",
       "      <td>0.0</td>\n",
       "      <td>0.0</td>\n",
       "      <td>0.0</td>\n",
       "      <td>0.0</td>\n",
       "      <td>0.0</td>\n",
       "      <td>0.0</td>\n",
       "      <td>0.0</td>\n",
       "    </tr>\n",
       "    <tr>\n",
       "      <th>-11.350000</th>\n",
       "      <td>0.0</td>\n",
       "      <td>0.0</td>\n",
       "      <td>0.0</td>\n",
       "      <td>0.0</td>\n",
       "      <td>0.0</td>\n",
       "      <td>0.0</td>\n",
       "      <td>0.0</td>\n",
       "      <td>0.0</td>\n",
       "      <td>0.0</td>\n",
       "      <td>0.0</td>\n",
       "      <td>...</td>\n",
       "      <td>0.0</td>\n",
       "      <td>0.0</td>\n",
       "      <td>0.0</td>\n",
       "      <td>0.0</td>\n",
       "      <td>0.0</td>\n",
       "      <td>0.0</td>\n",
       "      <td>1.0</td>\n",
       "      <td>0.0</td>\n",
       "      <td>0.0</td>\n",
       "      <td>0.0</td>\n",
       "    </tr>\n",
       "    <tr>\n",
       "      <th>-11.333333</th>\n",
       "      <td>0.0</td>\n",
       "      <td>0.0</td>\n",
       "      <td>0.0</td>\n",
       "      <td>0.0</td>\n",
       "      <td>0.0</td>\n",
       "      <td>0.0</td>\n",
       "      <td>0.0</td>\n",
       "      <td>0.0</td>\n",
       "      <td>0.0</td>\n",
       "      <td>0.0</td>\n",
       "      <td>...</td>\n",
       "      <td>0.0</td>\n",
       "      <td>0.0</td>\n",
       "      <td>0.0</td>\n",
       "      <td>0.0</td>\n",
       "      <td>0.0</td>\n",
       "      <td>0.0</td>\n",
       "      <td>0.0</td>\n",
       "      <td>0.0</td>\n",
       "      <td>0.0</td>\n",
       "      <td>0.0</td>\n",
       "    </tr>\n",
       "  </tbody>\n",
       "</table>\n",
       "<p>5 rows × 445 columns</p>\n",
       "</div>"
      ],
      "text/plain": [
       "day                        1                                           \\\n",
       "name       zmq_waterheater_19 zmq_waterheater_194 zmq_waterheater_288   \n",
       "shift                                                                   \n",
       "-12.933333                0.0                 0.0                 0.0   \n",
       "-12.916667                0.0                 0.0                 0.0   \n",
       "-11.366667                0.0                 0.0                 0.0   \n",
       "-11.350000                0.0                 0.0                 0.0   \n",
       "-11.333333                0.0                 0.0                 0.0   \n",
       "\n",
       "day                                                                     \\\n",
       "name       zmq_waterheater_393 zmq_waterheater_411 zmq_waterheater_468   \n",
       "shift                                                                    \n",
       "-12.933333                 0.0                 0.0                 0.0   \n",
       "-12.916667                 0.0                 0.0                 0.0   \n",
       "-11.366667                 0.0                 0.0                 0.0   \n",
       "-11.350000                 0.0                 0.0                 0.0   \n",
       "-11.333333                 0.0                 0.0                 0.0   \n",
       "\n",
       "day                                                                   \\\n",
       "name       zmq_waterheater_5 zmq_waterheater_505 zmq_waterheater_510   \n",
       "shift                                                                  \n",
       "-12.933333               0.0                 0.0                 0.0   \n",
       "-12.916667               0.0                 0.0                 0.0   \n",
       "-11.366667               0.0                 0.0                 0.0   \n",
       "-11.350000               0.0                 0.0                 0.0   \n",
       "-11.333333               0.0                 0.0                 0.0   \n",
       "\n",
       "day                                    ...                          31  \\\n",
       "name       zmq_waterheater_561         ...         zmq_waterheater_721   \n",
       "shift                                  ...                               \n",
       "-12.933333                 0.0         ...                         0.0   \n",
       "-12.916667                 0.0         ...                         0.0   \n",
       "-11.366667                 0.0         ...                         0.0   \n",
       "-11.350000                 0.0         ...                         0.0   \n",
       "-11.333333                 0.0         ...                         0.0   \n",
       "\n",
       "day                                                                     \\\n",
       "name       zmq_waterheater_744 zmq_waterheater_802 zmq_waterheater_849   \n",
       "shift                                                                    \n",
       "-12.933333                 0.0                 0.0                 0.0   \n",
       "-12.916667                 0.0                 0.0                 0.0   \n",
       "-11.366667                 0.0                 0.0                 0.0   \n",
       "-11.350000                 0.0                 0.0                 0.0   \n",
       "-11.333333                 0.0                 0.0                 0.0   \n",
       "\n",
       "day                                                                     \\\n",
       "name       zmq_waterheater_863 zmq_waterheater_876 zmq_waterheater_908   \n",
       "shift                                                                    \n",
       "-12.933333                 0.0                 0.0                 0.0   \n",
       "-12.916667                 0.0                 0.0                 0.0   \n",
       "-11.366667                 0.0                 0.0                 0.0   \n",
       "-11.350000                 0.0                 0.0                 1.0   \n",
       "-11.333333                 0.0                 0.0                 0.0   \n",
       "\n",
       "day                                                                     \n",
       "name       zmq_waterheater_935 zmq_waterheater_946 zmq_waterheater_971  \n",
       "shift                                                                   \n",
       "-12.933333                 0.0                 0.0                 0.0  \n",
       "-12.916667                 0.0                 0.0                 0.0  \n",
       "-11.366667                 0.0                 0.0                 0.0  \n",
       "-11.350000                 0.0                 0.0                 0.0  \n",
       "-11.333333                 0.0                 0.0                 0.0  \n",
       "\n",
       "[5 rows x 445 columns]"
      ]
     },
     "execution_count": 180,
     "metadata": {},
     "output_type": "execute_result"
    }
   ],
   "source": [
    "final = counts.apply(fill_first_index, axis=0)\n",
    "final.head()"
   ]
  },
  {
   "cell_type": "markdown",
   "metadata": {},
   "source": [
    "Check that we only have a single value per day and waterheater"
   ]
  },
  {
   "cell_type": "code",
   "execution_count": 183,
   "metadata": {
    "collapsed": false
   },
   "outputs": [
    {
     "data": {
      "text/plain": [
       "array([ 1.])"
      ]
     },
     "execution_count": 183,
     "metadata": {},
     "output_type": "execute_result"
    }
   ],
   "source": [
    "final.sum(axis=0).unique()"
   ]
  },
  {
   "cell_type": "code",
   "execution_count": 185,
   "metadata": {
    "collapsed": false
   },
   "outputs": [
    {
     "data": {
      "text/plain": [
       "<matplotlib.axes._subplots.AxesSubplot at 0x120a801d0>"
      ]
     },
     "execution_count": 185,
     "metadata": {},
     "output_type": "execute_result"
    },
    {
     "data": {
      "image/png": "[encoded data removed]",
      "text/plain": [
       "<matplotlib.figure.Figure at 0x120a72950>"
      ]
     },
     "metadata": {},
     "output_type": "display_data"
    }
   ],
   "source": [
    "final.sum(axis=1, level=0).cumsum().plot(figsize=(8, 6), legend=False)"
   ]
  },
  {
   "cell_type": "code",
   "execution_count": 186,
   "metadata": {
    "collapsed": false
   },
   "outputs": [
    {
     "data": {
      "text/plain": [
       "<matplotlib.axes._subplots.AxesSubplot at 0x120c48bd0>"
      ]
     },
     "execution_count": 186,
     "metadata": {},
     "output_type": "execute_result"
    },
    {
     "data": {
      "image/png": "[encoded data removed]",
      "text/plain": [
       "<matplotlib.figure.Figure at 0x11b7f5dd0>"
      ]
     },
     "metadata": {},
     "output_type": "display_data"
    }
   ],
   "source": [
    "final.sum(axis=1, level=0).cumsum().mean(axis=1).plot(figsize=(8, 6))"
   ]
  },
  {
   "cell_type": "markdown",
   "metadata": {},
   "source": [
    "Remember this number?"
   ]
  },
  {
   "cell_type": "markdown",
   "metadata": {},
   "source": [
    "## Multiple scenarios"
   ]
  },
  {
   "cell_type": "code",
   "execution_count": 189,
   "metadata": {
    "collapsed": true
   },
   "outputs": [],
   "source": [
    "qry = [\"feeder=='one'\",\n",
    "       \"season=='summer'\",\n",
    "       \"attribute=='shower demand 110'\"]\n",
    "\n",
    "tmp = df.query(\" and \".join(qry))"
   ]
  },
  {
   "cell_type": "code",
   "execution_count": 190,
   "metadata": {
    "collapsed": false
   },
   "outputs": [
    {
     "data": {
      "text/html": [
       "<div>\n",
       "<table border=\"1\" class=\"dataframe\">\n",
       "  <thead>\n",
       "    <tr>\n",
       "      <th>feeder</th>\n",
       "      <th colspan=\"21\" halign=\"left\">one</th>\n",
       "    </tr>\n",
       "    <tr>\n",
       "      <th>season</th>\n",
       "      <th colspan=\"21\" halign=\"left\">summer</th>\n",
       "    </tr>\n",
       "    <tr>\n",
       "      <th>strategy</th>\n",
       "      <th colspan=\"10\" halign=\"left\">no_control</th>\n",
       "      <th>...</th>\n",
       "      <th colspan=\"10\" halign=\"left\">smooth</th>\n",
       "    </tr>\n",
       "    <tr>\n",
       "      <th>control</th>\n",
       "      <th colspan=\"10\" halign=\"left\">0</th>\n",
       "      <th>...</th>\n",
       "      <th colspan=\"10\" halign=\"left\">75</th>\n",
       "    </tr>\n",
       "    <tr>\n",
       "      <th>day</th>\n",
       "      <th colspan=\"10\" halign=\"left\">1</th>\n",
       "      <th>...</th>\n",
       "      <th colspan=\"10\" halign=\"left\">31</th>\n",
       "    </tr>\n",
       "    <tr>\n",
       "      <th>name</th>\n",
       "      <th>zmq_waterheater_19</th>\n",
       "      <th>zmq_waterheater_194</th>\n",
       "      <th>zmq_waterheater_288</th>\n",
       "      <th>zmq_waterheater_393</th>\n",
       "      <th>zmq_waterheater_411</th>\n",
       "      <th>zmq_waterheater_468</th>\n",
       "      <th>zmq_waterheater_5</th>\n",
       "      <th>zmq_waterheater_505</th>\n",
       "      <th>zmq_waterheater_510</th>\n",
       "      <th>zmq_waterheater_561</th>\n",
       "      <th>...</th>\n",
       "      <th>zmq_waterheater_908</th>\n",
       "      <th>zmq_waterheater_926</th>\n",
       "      <th>zmq_waterheater_935</th>\n",
       "      <th>zmq_waterheater_937</th>\n",
       "      <th>zmq_waterheater_946</th>\n",
       "      <th>zmq_waterheater_950</th>\n",
       "      <th>zmq_waterheater_963</th>\n",
       "      <th>zmq_waterheater_967</th>\n",
       "      <th>zmq_waterheater_971</th>\n",
       "      <th>zmq_waterheater_982</th>\n",
       "    </tr>\n",
       "    <tr>\n",
       "      <th>shift</th>\n",
       "      <th></th>\n",
       "      <th></th>\n",
       "      <th></th>\n",
       "      <th></th>\n",
       "      <th></th>\n",
       "      <th></th>\n",
       "      <th></th>\n",
       "      <th></th>\n",
       "      <th></th>\n",
       "      <th></th>\n",
       "      <th></th>\n",
       "      <th></th>\n",
       "      <th></th>\n",
       "      <th></th>\n",
       "      <th></th>\n",
       "      <th></th>\n",
       "      <th></th>\n",
       "      <th></th>\n",
       "      <th></th>\n",
       "      <th></th>\n",
       "      <th></th>\n",
       "    </tr>\n",
       "  </thead>\n",
       "  <tbody>\n",
       "    <tr>\n",
       "      <th>-12.966667</th>\n",
       "      <td>NaN</td>\n",
       "      <td>NaN</td>\n",
       "      <td>NaN</td>\n",
       "      <td>NaN</td>\n",
       "      <td>NaN</td>\n",
       "      <td>NaN</td>\n",
       "      <td>NaN</td>\n",
       "      <td>NaN</td>\n",
       "      <td>NaN</td>\n",
       "      <td>NaN</td>\n",
       "      <td>...</td>\n",
       "      <td>NaN</td>\n",
       "      <td>NaN</td>\n",
       "      <td>NaN</td>\n",
       "      <td>NaN</td>\n",
       "      <td>NaN</td>\n",
       "      <td>NaN</td>\n",
       "      <td>NaN</td>\n",
       "      <td>NaN</td>\n",
       "      <td>NaN</td>\n",
       "      <td>NaN</td>\n",
       "    </tr>\n",
       "    <tr>\n",
       "      <th>-12.950000</th>\n",
       "      <td>NaN</td>\n",
       "      <td>NaN</td>\n",
       "      <td>NaN</td>\n",
       "      <td>NaN</td>\n",
       "      <td>NaN</td>\n",
       "      <td>NaN</td>\n",
       "      <td>NaN</td>\n",
       "      <td>NaN</td>\n",
       "      <td>NaN</td>\n",
       "      <td>NaN</td>\n",
       "      <td>...</td>\n",
       "      <td>NaN</td>\n",
       "      <td>NaN</td>\n",
       "      <td>NaN</td>\n",
       "      <td>NaN</td>\n",
       "      <td>NaN</td>\n",
       "      <td>NaN</td>\n",
       "      <td>NaN</td>\n",
       "      <td>NaN</td>\n",
       "      <td>NaN</td>\n",
       "      <td>NaN</td>\n",
       "    </tr>\n",
       "    <tr>\n",
       "      <th>-12.933333</th>\n",
       "      <td>NaN</td>\n",
       "      <td>NaN</td>\n",
       "      <td>NaN</td>\n",
       "      <td>NaN</td>\n",
       "      <td>NaN</td>\n",
       "      <td>NaN</td>\n",
       "      <td>NaN</td>\n",
       "      <td>NaN</td>\n",
       "      <td>NaN</td>\n",
       "      <td>NaN</td>\n",
       "      <td>...</td>\n",
       "      <td>NaN</td>\n",
       "      <td>NaN</td>\n",
       "      <td>NaN</td>\n",
       "      <td>NaN</td>\n",
       "      <td>NaN</td>\n",
       "      <td>NaN</td>\n",
       "      <td>NaN</td>\n",
       "      <td>NaN</td>\n",
       "      <td>NaN</td>\n",
       "      <td>NaN</td>\n",
       "    </tr>\n",
       "    <tr>\n",
       "      <th>-12.916667</th>\n",
       "      <td>NaN</td>\n",
       "      <td>NaN</td>\n",
       "      <td>NaN</td>\n",
       "      <td>NaN</td>\n",
       "      <td>NaN</td>\n",
       "      <td>NaN</td>\n",
       "      <td>NaN</td>\n",
       "      <td>NaN</td>\n",
       "      <td>NaN</td>\n",
       "      <td>NaN</td>\n",
       "      <td>...</td>\n",
       "      <td>NaN</td>\n",
       "      <td>NaN</td>\n",
       "      <td>NaN</td>\n",
       "      <td>NaN</td>\n",
       "      <td>NaN</td>\n",
       "      <td>NaN</td>\n",
       "      <td>NaN</td>\n",
       "      <td>NaN</td>\n",
       "      <td>NaN</td>\n",
       "      <td>NaN</td>\n",
       "    </tr>\n",
       "    <tr>\n",
       "      <th>-12.466667</th>\n",
       "      <td>NaN</td>\n",
       "      <td>NaN</td>\n",
       "      <td>NaN</td>\n",
       "      <td>NaN</td>\n",
       "      <td>NaN</td>\n",
       "      <td>NaN</td>\n",
       "      <td>NaN</td>\n",
       "      <td>NaN</td>\n",
       "      <td>NaN</td>\n",
       "      <td>NaN</td>\n",
       "      <td>...</td>\n",
       "      <td>NaN</td>\n",
       "      <td>NaN</td>\n",
       "      <td>NaN</td>\n",
       "      <td>NaN</td>\n",
       "      <td>NaN</td>\n",
       "      <td>NaN</td>\n",
       "      <td>NaN</td>\n",
       "      <td>NaN</td>\n",
       "      <td>NaN</td>\n",
       "      <td>NaN</td>\n",
       "    </tr>\n",
       "  </tbody>\n",
       "</table>\n",
       "<p>5 rows × 6466 columns</p>\n",
       "</div>"
      ],
      "text/plain": [
       "feeder                    one                                          \\\n",
       "season                 summer                                           \n",
       "strategy           no_control                                           \n",
       "control                    0                                            \n",
       "day                        1                                            \n",
       "name       zmq_waterheater_19 zmq_waterheater_194 zmq_waterheater_288   \n",
       "shift                                                                   \n",
       "-12.966667                NaN                 NaN                 NaN   \n",
       "-12.950000                NaN                 NaN                 NaN   \n",
       "-12.933333                NaN                 NaN                 NaN   \n",
       "-12.916667                NaN                 NaN                 NaN   \n",
       "-12.466667                NaN                 NaN                 NaN   \n",
       "\n",
       "feeder                                                                  \\\n",
       "season                                                                   \n",
       "strategy                                                                 \n",
       "control                                                                  \n",
       "day                                                                      \n",
       "name       zmq_waterheater_393 zmq_waterheater_411 zmq_waterheater_468   \n",
       "shift                                                                    \n",
       "-12.966667                 NaN                 NaN                 NaN   \n",
       "-12.950000                 NaN                 NaN                 NaN   \n",
       "-12.933333                 NaN                 NaN                 NaN   \n",
       "-12.916667                 NaN                 NaN                 NaN   \n",
       "-12.466667                 NaN                 NaN                 NaN   \n",
       "\n",
       "feeder                                                                \\\n",
       "season                                                                 \n",
       "strategy                                                               \n",
       "control                                                                \n",
       "day                                                                    \n",
       "name       zmq_waterheater_5 zmq_waterheater_505 zmq_waterheater_510   \n",
       "shift                                                                  \n",
       "-12.966667               NaN                 NaN                 NaN   \n",
       "-12.950000               NaN                 NaN                 NaN   \n",
       "-12.933333               NaN                 NaN                 NaN   \n",
       "-12.916667               NaN                 NaN                 NaN   \n",
       "-12.466667               NaN                 NaN                 NaN   \n",
       "\n",
       "feeder                                 ...                              \\\n",
       "season                                 ...                               \n",
       "strategy                               ...                      smooth   \n",
       "control                                ...                          75   \n",
       "day                                    ...                          31   \n",
       "name       zmq_waterheater_561         ...         zmq_waterheater_908   \n",
       "shift                                  ...                               \n",
       "-12.966667                 NaN         ...                         NaN   \n",
       "-12.950000                 NaN         ...                         NaN   \n",
       "-12.933333                 NaN         ...                         NaN   \n",
       "-12.916667                 NaN         ...                         NaN   \n",
       "-12.466667                 NaN         ...                         NaN   \n",
       "\n",
       "feeder                                                                  \\\n",
       "season                                                                   \n",
       "strategy                                                                 \n",
       "control                                                                  \n",
       "day                                                                      \n",
       "name       zmq_waterheater_926 zmq_waterheater_935 zmq_waterheater_937   \n",
       "shift                                                                    \n",
       "-12.966667                 NaN                 NaN                 NaN   \n",
       "-12.950000                 NaN                 NaN                 NaN   \n",
       "-12.933333                 NaN                 NaN                 NaN   \n",
       "-12.916667                 NaN                 NaN                 NaN   \n",
       "-12.466667                 NaN                 NaN                 NaN   \n",
       "\n",
       "feeder                                                                  \\\n",
       "season                                                                   \n",
       "strategy                                                                 \n",
       "control                                                                  \n",
       "day                                                                      \n",
       "name       zmq_waterheater_946 zmq_waterheater_950 zmq_waterheater_963   \n",
       "shift                                                                    \n",
       "-12.966667                 NaN                 NaN                 NaN   \n",
       "-12.950000                 NaN                 NaN                 NaN   \n",
       "-12.933333                 NaN                 NaN                 NaN   \n",
       "-12.916667                 NaN                 NaN                 NaN   \n",
       "-12.466667                 NaN                 NaN                 NaN   \n",
       "\n",
       "feeder                                                                  \n",
       "season                                                                  \n",
       "strategy                                                                \n",
       "control                                                                 \n",
       "day                                                                     \n",
       "name       zmq_waterheater_967 zmq_waterheater_971 zmq_waterheater_982  \n",
       "shift                                                                   \n",
       "-12.966667                 NaN                 NaN                 NaN  \n",
       "-12.950000                 NaN                 NaN                 NaN  \n",
       "-12.933333                 NaN                 NaN                 NaN  \n",
       "-12.916667                 NaN                 NaN                 NaN  \n",
       "-12.466667                 NaN                 NaN                 NaN  \n",
       "\n",
       "[5 rows x 6466 columns]"
      ]
     },
     "execution_count": 190,
     "metadata": {},
     "output_type": "execute_result"
    }
   ],
   "source": [
    "counts = tmp.pivot_table(index='shift', \n",
    "                         columns=['feeder', 'season', 'strategy', 'control', 'day', 'name'], \n",
    "                         values='value', aggfunc='count')\n",
    "counts.head()"
   ]
  },
  {
   "cell_type": "code",
   "execution_count": 191,
   "metadata": {
    "collapsed": false
   },
   "outputs": [
    {
     "data": {
      "text/html": [
       "<div>\n",
       "<table border=\"1\" class=\"dataframe\">\n",
       "  <thead>\n",
       "    <tr>\n",
       "      <th>feeder</th>\n",
       "      <th colspan=\"21\" halign=\"left\">one</th>\n",
       "    </tr>\n",
       "    <tr>\n",
       "      <th>season</th>\n",
       "      <th colspan=\"21\" halign=\"left\">summer</th>\n",
       "    </tr>\n",
       "    <tr>\n",
       "      <th>strategy</th>\n",
       "      <th colspan=\"10\" halign=\"left\">no_control</th>\n",
       "      <th>...</th>\n",
       "      <th colspan=\"10\" halign=\"left\">smooth</th>\n",
       "    </tr>\n",
       "    <tr>\n",
       "      <th>control</th>\n",
       "      <th colspan=\"10\" halign=\"left\">0</th>\n",
       "      <th>...</th>\n",
       "      <th colspan=\"10\" halign=\"left\">75</th>\n",
       "    </tr>\n",
       "    <tr>\n",
       "      <th>day</th>\n",
       "      <th colspan=\"10\" halign=\"left\">1</th>\n",
       "      <th>...</th>\n",
       "      <th colspan=\"10\" halign=\"left\">31</th>\n",
       "    </tr>\n",
       "    <tr>\n",
       "      <th>name</th>\n",
       "      <th>zmq_waterheater_19</th>\n",
       "      <th>zmq_waterheater_194</th>\n",
       "      <th>zmq_waterheater_288</th>\n",
       "      <th>zmq_waterheater_393</th>\n",
       "      <th>zmq_waterheater_411</th>\n",
       "      <th>zmq_waterheater_468</th>\n",
       "      <th>zmq_waterheater_5</th>\n",
       "      <th>zmq_waterheater_505</th>\n",
       "      <th>zmq_waterheater_510</th>\n",
       "      <th>zmq_waterheater_561</th>\n",
       "      <th>...</th>\n",
       "      <th>zmq_waterheater_908</th>\n",
       "      <th>zmq_waterheater_926</th>\n",
       "      <th>zmq_waterheater_935</th>\n",
       "      <th>zmq_waterheater_937</th>\n",
       "      <th>zmq_waterheater_946</th>\n",
       "      <th>zmq_waterheater_950</th>\n",
       "      <th>zmq_waterheater_963</th>\n",
       "      <th>zmq_waterheater_967</th>\n",
       "      <th>zmq_waterheater_971</th>\n",
       "      <th>zmq_waterheater_982</th>\n",
       "    </tr>\n",
       "    <tr>\n",
       "      <th>shift</th>\n",
       "      <th></th>\n",
       "      <th></th>\n",
       "      <th></th>\n",
       "      <th></th>\n",
       "      <th></th>\n",
       "      <th></th>\n",
       "      <th></th>\n",
       "      <th></th>\n",
       "      <th></th>\n",
       "      <th></th>\n",
       "      <th></th>\n",
       "      <th></th>\n",
       "      <th></th>\n",
       "      <th></th>\n",
       "      <th></th>\n",
       "      <th></th>\n",
       "      <th></th>\n",
       "      <th></th>\n",
       "      <th></th>\n",
       "      <th></th>\n",
       "      <th></th>\n",
       "    </tr>\n",
       "  </thead>\n",
       "  <tbody>\n",
       "    <tr>\n",
       "      <th>-12.966667</th>\n",
       "      <td>0.0</td>\n",
       "      <td>0.0</td>\n",
       "      <td>0.0</td>\n",
       "      <td>0.0</td>\n",
       "      <td>0.0</td>\n",
       "      <td>0.0</td>\n",
       "      <td>0.0</td>\n",
       "      <td>0.0</td>\n",
       "      <td>0.0</td>\n",
       "      <td>0.0</td>\n",
       "      <td>...</td>\n",
       "      <td>0.0</td>\n",
       "      <td>0.0</td>\n",
       "      <td>0.0</td>\n",
       "      <td>0.0</td>\n",
       "      <td>0.0</td>\n",
       "      <td>0.0</td>\n",
       "      <td>0.0</td>\n",
       "      <td>0.0</td>\n",
       "      <td>0.0</td>\n",
       "      <td>0.0</td>\n",
       "    </tr>\n",
       "    <tr>\n",
       "      <th>-12.950000</th>\n",
       "      <td>0.0</td>\n",
       "      <td>0.0</td>\n",
       "      <td>0.0</td>\n",
       "      <td>0.0</td>\n",
       "      <td>0.0</td>\n",
       "      <td>0.0</td>\n",
       "      <td>0.0</td>\n",
       "      <td>0.0</td>\n",
       "      <td>0.0</td>\n",
       "      <td>0.0</td>\n",
       "      <td>...</td>\n",
       "      <td>0.0</td>\n",
       "      <td>0.0</td>\n",
       "      <td>0.0</td>\n",
       "      <td>0.0</td>\n",
       "      <td>0.0</td>\n",
       "      <td>0.0</td>\n",
       "      <td>0.0</td>\n",
       "      <td>0.0</td>\n",
       "      <td>0.0</td>\n",
       "      <td>0.0</td>\n",
       "    </tr>\n",
       "    <tr>\n",
       "      <th>-12.933333</th>\n",
       "      <td>0.0</td>\n",
       "      <td>0.0</td>\n",
       "      <td>0.0</td>\n",
       "      <td>0.0</td>\n",
       "      <td>0.0</td>\n",
       "      <td>0.0</td>\n",
       "      <td>0.0</td>\n",
       "      <td>0.0</td>\n",
       "      <td>0.0</td>\n",
       "      <td>0.0</td>\n",
       "      <td>...</td>\n",
       "      <td>0.0</td>\n",
       "      <td>0.0</td>\n",
       "      <td>0.0</td>\n",
       "      <td>0.0</td>\n",
       "      <td>0.0</td>\n",
       "      <td>0.0</td>\n",
       "      <td>0.0</td>\n",
       "      <td>0.0</td>\n",
       "      <td>0.0</td>\n",
       "      <td>0.0</td>\n",
       "    </tr>\n",
       "    <tr>\n",
       "      <th>-12.916667</th>\n",
       "      <td>0.0</td>\n",
       "      <td>0.0</td>\n",
       "      <td>0.0</td>\n",
       "      <td>0.0</td>\n",
       "      <td>0.0</td>\n",
       "      <td>0.0</td>\n",
       "      <td>0.0</td>\n",
       "      <td>0.0</td>\n",
       "      <td>0.0</td>\n",
       "      <td>0.0</td>\n",
       "      <td>...</td>\n",
       "      <td>0.0</td>\n",
       "      <td>0.0</td>\n",
       "      <td>0.0</td>\n",
       "      <td>0.0</td>\n",
       "      <td>0.0</td>\n",
       "      <td>0.0</td>\n",
       "      <td>0.0</td>\n",
       "      <td>0.0</td>\n",
       "      <td>0.0</td>\n",
       "      <td>0.0</td>\n",
       "    </tr>\n",
       "    <tr>\n",
       "      <th>-12.466667</th>\n",
       "      <td>0.0</td>\n",
       "      <td>0.0</td>\n",
       "      <td>0.0</td>\n",
       "      <td>0.0</td>\n",
       "      <td>0.0</td>\n",
       "      <td>0.0</td>\n",
       "      <td>0.0</td>\n",
       "      <td>0.0</td>\n",
       "      <td>0.0</td>\n",
       "      <td>0.0</td>\n",
       "      <td>...</td>\n",
       "      <td>0.0</td>\n",
       "      <td>0.0</td>\n",
       "      <td>0.0</td>\n",
       "      <td>0.0</td>\n",
       "      <td>0.0</td>\n",
       "      <td>0.0</td>\n",
       "      <td>0.0</td>\n",
       "      <td>0.0</td>\n",
       "      <td>0.0</td>\n",
       "      <td>0.0</td>\n",
       "    </tr>\n",
       "  </tbody>\n",
       "</table>\n",
       "<p>5 rows × 6466 columns</p>\n",
       "</div>"
      ],
      "text/plain": [
       "feeder                    one                                          \\\n",
       "season                 summer                                           \n",
       "strategy           no_control                                           \n",
       "control                    0                                            \n",
       "day                        1                                            \n",
       "name       zmq_waterheater_19 zmq_waterheater_194 zmq_waterheater_288   \n",
       "shift                                                                   \n",
       "-12.966667                0.0                 0.0                 0.0   \n",
       "-12.950000                0.0                 0.0                 0.0   \n",
       "-12.933333                0.0                 0.0                 0.0   \n",
       "-12.916667                0.0                 0.0                 0.0   \n",
       "-12.466667                0.0                 0.0                 0.0   \n",
       "\n",
       "feeder                                                                  \\\n",
       "season                                                                   \n",
       "strategy                                                                 \n",
       "control                                                                  \n",
       "day                                                                      \n",
       "name       zmq_waterheater_393 zmq_waterheater_411 zmq_waterheater_468   \n",
       "shift                                                                    \n",
       "-12.966667                 0.0                 0.0                 0.0   \n",
       "-12.950000                 0.0                 0.0                 0.0   \n",
       "-12.933333                 0.0                 0.0                 0.0   \n",
       "-12.916667                 0.0                 0.0                 0.0   \n",
       "-12.466667                 0.0                 0.0                 0.0   \n",
       "\n",
       "feeder                                                                \\\n",
       "season                                                                 \n",
       "strategy                                                               \n",
       "control                                                                \n",
       "day                                                                    \n",
       "name       zmq_waterheater_5 zmq_waterheater_505 zmq_waterheater_510   \n",
       "shift                                                                  \n",
       "-12.966667               0.0                 0.0                 0.0   \n",
       "-12.950000               0.0                 0.0                 0.0   \n",
       "-12.933333               0.0                 0.0                 0.0   \n",
       "-12.916667               0.0                 0.0                 0.0   \n",
       "-12.466667               0.0                 0.0                 0.0   \n",
       "\n",
       "feeder                                 ...                              \\\n",
       "season                                 ...                               \n",
       "strategy                               ...                      smooth   \n",
       "control                                ...                          75   \n",
       "day                                    ...                          31   \n",
       "name       zmq_waterheater_561         ...         zmq_waterheater_908   \n",
       "shift                                  ...                               \n",
       "-12.966667                 0.0         ...                         0.0   \n",
       "-12.950000                 0.0         ...                         0.0   \n",
       "-12.933333                 0.0         ...                         0.0   \n",
       "-12.916667                 0.0         ...                         0.0   \n",
       "-12.466667                 0.0         ...                         0.0   \n",
       "\n",
       "feeder                                                                  \\\n",
       "season                                                                   \n",
       "strategy                                                                 \n",
       "control                                                                  \n",
       "day                                                                      \n",
       "name       zmq_waterheater_926 zmq_waterheater_935 zmq_waterheater_937   \n",
       "shift                                                                    \n",
       "-12.966667                 0.0                 0.0                 0.0   \n",
       "-12.950000                 0.0                 0.0                 0.0   \n",
       "-12.933333                 0.0                 0.0                 0.0   \n",
       "-12.916667                 0.0                 0.0                 0.0   \n",
       "-12.466667                 0.0                 0.0                 0.0   \n",
       "\n",
       "feeder                                                                  \\\n",
       "season                                                                   \n",
       "strategy                                                                 \n",
       "control                                                                  \n",
       "day                                                                      \n",
       "name       zmq_waterheater_946 zmq_waterheater_950 zmq_waterheater_963   \n",
       "shift                                                                    \n",
       "-12.966667                 0.0                 0.0                 0.0   \n",
       "-12.950000                 0.0                 0.0                 0.0   \n",
       "-12.933333                 0.0                 0.0                 0.0   \n",
       "-12.916667                 0.0                 0.0                 0.0   \n",
       "-12.466667                 0.0                 0.0                 0.0   \n",
       "\n",
       "feeder                                                                  \n",
       "season                                                                  \n",
       "strategy                                                                \n",
       "control                                                                 \n",
       "day                                                                     \n",
       "name       zmq_waterheater_967 zmq_waterheater_971 zmq_waterheater_982  \n",
       "shift                                                                   \n",
       "-12.966667                 0.0                 0.0                 0.0  \n",
       "-12.950000                 0.0                 0.0                 0.0  \n",
       "-12.933333                 0.0                 0.0                 0.0  \n",
       "-12.916667                 0.0                 0.0                 0.0  \n",
       "-12.466667                 0.0                 0.0                 0.0  \n",
       "\n",
       "[5 rows x 6466 columns]"
      ]
     },
     "execution_count": 191,
     "metadata": {},
     "output_type": "execute_result"
    }
   ],
   "source": [
    "first = counts.apply(fill_first_index, axis=0)\n",
    "first.head()"
   ]
  },
  {
   "cell_type": "code",
   "execution_count": 192,
   "metadata": {
    "collapsed": false
   },
   "outputs": [
    {
     "data": {
      "text/html": [
       "<div>\n",
       "<table border=\"1\" class=\"dataframe\">\n",
       "  <thead>\n",
       "    <tr>\n",
       "      <th>feeder</th>\n",
       "      <th colspan=\"21\" halign=\"left\">one</th>\n",
       "    </tr>\n",
       "    <tr>\n",
       "      <th>season</th>\n",
       "      <th colspan=\"21\" halign=\"left\">summer</th>\n",
       "    </tr>\n",
       "    <tr>\n",
       "      <th>strategy</th>\n",
       "      <th colspan=\"10\" halign=\"left\">no_control</th>\n",
       "      <th>...</th>\n",
       "      <th colspan=\"10\" halign=\"left\">smooth</th>\n",
       "    </tr>\n",
       "    <tr>\n",
       "      <th>control</th>\n",
       "      <th colspan=\"10\" halign=\"left\">0</th>\n",
       "      <th>...</th>\n",
       "      <th colspan=\"10\" halign=\"left\">75</th>\n",
       "    </tr>\n",
       "    <tr>\n",
       "      <th>day</th>\n",
       "      <th>1</th>\n",
       "      <th>2</th>\n",
       "      <th>3</th>\n",
       "      <th>4</th>\n",
       "      <th>5</th>\n",
       "      <th>6</th>\n",
       "      <th>7</th>\n",
       "      <th>8</th>\n",
       "      <th>9</th>\n",
       "      <th>26</th>\n",
       "      <th>...</th>\n",
       "      <th>6</th>\n",
       "      <th>7</th>\n",
       "      <th>8</th>\n",
       "      <th>9</th>\n",
       "      <th>26</th>\n",
       "      <th>27</th>\n",
       "      <th>28</th>\n",
       "      <th>29</th>\n",
       "      <th>30</th>\n",
       "      <th>31</th>\n",
       "    </tr>\n",
       "    <tr>\n",
       "      <th>shift</th>\n",
       "      <th></th>\n",
       "      <th></th>\n",
       "      <th></th>\n",
       "      <th></th>\n",
       "      <th></th>\n",
       "      <th></th>\n",
       "      <th></th>\n",
       "      <th></th>\n",
       "      <th></th>\n",
       "      <th></th>\n",
       "      <th></th>\n",
       "      <th></th>\n",
       "      <th></th>\n",
       "      <th></th>\n",
       "      <th></th>\n",
       "      <th></th>\n",
       "      <th></th>\n",
       "      <th></th>\n",
       "      <th></th>\n",
       "      <th></th>\n",
       "      <th></th>\n",
       "    </tr>\n",
       "  </thead>\n",
       "  <tbody>\n",
       "    <tr>\n",
       "      <th>-12.966667</th>\n",
       "      <td>0.0</td>\n",
       "      <td>0.0</td>\n",
       "      <td>0.0</td>\n",
       "      <td>0.0</td>\n",
       "      <td>0.0</td>\n",
       "      <td>0.0</td>\n",
       "      <td>0.0</td>\n",
       "      <td>0.0</td>\n",
       "      <td>0.0</td>\n",
       "      <td>0.0</td>\n",
       "      <td>...</td>\n",
       "      <td>0.0</td>\n",
       "      <td>1.0</td>\n",
       "      <td>0.0</td>\n",
       "      <td>0.0</td>\n",
       "      <td>0.0</td>\n",
       "      <td>0.0</td>\n",
       "      <td>0.0</td>\n",
       "      <td>0.0</td>\n",
       "      <td>0.0</td>\n",
       "      <td>0.0</td>\n",
       "    </tr>\n",
       "    <tr>\n",
       "      <th>-12.950000</th>\n",
       "      <td>0.0</td>\n",
       "      <td>0.0</td>\n",
       "      <td>0.0</td>\n",
       "      <td>0.0</td>\n",
       "      <td>0.0</td>\n",
       "      <td>0.0</td>\n",
       "      <td>0.0</td>\n",
       "      <td>0.0</td>\n",
       "      <td>0.0</td>\n",
       "      <td>0.0</td>\n",
       "      <td>...</td>\n",
       "      <td>0.0</td>\n",
       "      <td>1.0</td>\n",
       "      <td>0.0</td>\n",
       "      <td>0.0</td>\n",
       "      <td>0.0</td>\n",
       "      <td>0.0</td>\n",
       "      <td>0.0</td>\n",
       "      <td>0.0</td>\n",
       "      <td>0.0</td>\n",
       "      <td>0.0</td>\n",
       "    </tr>\n",
       "    <tr>\n",
       "      <th>-12.933333</th>\n",
       "      <td>0.0</td>\n",
       "      <td>0.0</td>\n",
       "      <td>0.0</td>\n",
       "      <td>0.0</td>\n",
       "      <td>0.0</td>\n",
       "      <td>0.0</td>\n",
       "      <td>1.0</td>\n",
       "      <td>0.0</td>\n",
       "      <td>0.0</td>\n",
       "      <td>0.0</td>\n",
       "      <td>...</td>\n",
       "      <td>0.0</td>\n",
       "      <td>1.0</td>\n",
       "      <td>0.0</td>\n",
       "      <td>0.0</td>\n",
       "      <td>0.0</td>\n",
       "      <td>0.0</td>\n",
       "      <td>0.0</td>\n",
       "      <td>0.0</td>\n",
       "      <td>0.0</td>\n",
       "      <td>0.0</td>\n",
       "    </tr>\n",
       "    <tr>\n",
       "      <th>-12.916667</th>\n",
       "      <td>0.0</td>\n",
       "      <td>0.0</td>\n",
       "      <td>0.0</td>\n",
       "      <td>0.0</td>\n",
       "      <td>0.0</td>\n",
       "      <td>0.0</td>\n",
       "      <td>1.0</td>\n",
       "      <td>0.0</td>\n",
       "      <td>0.0</td>\n",
       "      <td>0.0</td>\n",
       "      <td>...</td>\n",
       "      <td>0.0</td>\n",
       "      <td>1.0</td>\n",
       "      <td>0.0</td>\n",
       "      <td>0.0</td>\n",
       "      <td>0.0</td>\n",
       "      <td>0.0</td>\n",
       "      <td>0.0</td>\n",
       "      <td>0.0</td>\n",
       "      <td>0.0</td>\n",
       "      <td>0.0</td>\n",
       "    </tr>\n",
       "    <tr>\n",
       "      <th>-12.466667</th>\n",
       "      <td>0.0</td>\n",
       "      <td>0.0</td>\n",
       "      <td>0.0</td>\n",
       "      <td>0.0</td>\n",
       "      <td>0.0</td>\n",
       "      <td>0.0</td>\n",
       "      <td>1.0</td>\n",
       "      <td>0.0</td>\n",
       "      <td>0.0</td>\n",
       "      <td>0.0</td>\n",
       "      <td>...</td>\n",
       "      <td>0.0</td>\n",
       "      <td>1.0</td>\n",
       "      <td>0.0</td>\n",
       "      <td>0.0</td>\n",
       "      <td>0.0</td>\n",
       "      <td>0.0</td>\n",
       "      <td>0.0</td>\n",
       "      <td>0.0</td>\n",
       "      <td>0.0</td>\n",
       "      <td>0.0</td>\n",
       "    </tr>\n",
       "  </tbody>\n",
       "</table>\n",
       "<p>5 rows × 135 columns</p>\n",
       "</div>"
      ],
      "text/plain": [
       "feeder            one                                              ...   \\\n",
       "season         summer                                              ...    \n",
       "strategy   no_control                                              ...    \n",
       "control            0                                               ...    \n",
       "day                1    2    3    4    5    6    7    8    9    26 ...    \n",
       "shift                                                              ...    \n",
       "-12.966667        0.0  0.0  0.0  0.0  0.0  0.0  0.0  0.0  0.0  0.0 ...    \n",
       "-12.950000        0.0  0.0  0.0  0.0  0.0  0.0  0.0  0.0  0.0  0.0 ...    \n",
       "-12.933333        0.0  0.0  0.0  0.0  0.0  0.0  1.0  0.0  0.0  0.0 ...    \n",
       "-12.916667        0.0  0.0  0.0  0.0  0.0  0.0  1.0  0.0  0.0  0.0 ...    \n",
       "-12.466667        0.0  0.0  0.0  0.0  0.0  0.0  1.0  0.0  0.0  0.0 ...    \n",
       "\n",
       "feeder                                                          \n",
       "season                                                          \n",
       "strategy   smooth                                               \n",
       "control        75                                               \n",
       "day            6    7    8    9    26   27   28   29   30   31  \n",
       "shift                                                           \n",
       "-12.966667    0.0  1.0  0.0  0.0  0.0  0.0  0.0  0.0  0.0  0.0  \n",
       "-12.950000    0.0  1.0  0.0  0.0  0.0  0.0  0.0  0.0  0.0  0.0  \n",
       "-12.933333    0.0  1.0  0.0  0.0  0.0  0.0  0.0  0.0  0.0  0.0  \n",
       "-12.916667    0.0  1.0  0.0  0.0  0.0  0.0  0.0  0.0  0.0  0.0  \n",
       "-12.466667    0.0  1.0  0.0  0.0  0.0  0.0  0.0  0.0  0.0  0.0  \n",
       "\n",
       "[5 rows x 135 columns]"
      ]
     },
     "execution_count": 192,
     "metadata": {},
     "output_type": "execute_result"
    }
   ],
   "source": [
    "first.sum(axis=1, level=[0,1,2,3,4]).cumsum().head()"
   ]
  },
  {
   "cell_type": "code",
   "execution_count": 193,
   "metadata": {
    "collapsed": true
   },
   "outputs": [],
   "source": [
    "final = first.sum(axis=1, level=[0,1,2,3,4]).cumsum().mean(axis=1, level=[0,1,2,3])"
   ]
  },
  {
   "cell_type": "code",
   "execution_count": 195,
   "metadata": {
    "collapsed": false
   },
   "outputs": [
    {
     "data": {
      "text/plain": [
       "<matplotlib.axes._subplots.AxesSubplot at 0x11863b650>"
      ]
     },
     "execution_count": 195,
     "metadata": {},
     "output_type": "execute_result"
    },
    {
     "data": {
      "image/png": "[encoded data removed]",
      "text/plain": [
       "<matplotlib.figure.Figure at 0x117efdb90>"
      ]
     },
     "metadata": {},
     "output_type": "display_data"
    }
   ],
   "source": [
    "final[('one', 'summer', 'no_control')].plot(figsize=(8, 6))"
   ]
  },
  {
   "cell_type": "code",
   "execution_count": 197,
   "metadata": {
    "collapsed": false
   },
   "outputs": [
    {
     "data": {
      "text/plain": [
       "<matplotlib.axes._subplots.AxesSubplot at 0x118e794d0>"
      ]
     },
     "execution_count": 197,
     "metadata": {},
     "output_type": "execute_result"
    },
    {
     "data": {
      "image/png": "[encoded data removed]",
      "text/plain": [
       "<matplotlib.figure.Figure at 0x10fda8790>"
      ]
     },
     "metadata": {},
     "output_type": "display_data"
    }
   ],
   "source": [
    "plt.style.use(\"seaborn-whitegrid\")\n",
    "final.plot(figsize=(10, 6))"
   ]
  },
  {
   "cell_type": "code",
   "execution_count": 198,
   "metadata": {
    "collapsed": false
   },
   "outputs": [
    {
     "data": {
      "text/html": [
       "<div>\n",
       "<table border=\"1\" class=\"dataframe\">\n",
       "  <thead>\n",
       "    <tr style=\"text-align: right;\">\n",
       "      <th></th>\n",
       "      <th>shift</th>\n",
       "      <th>feeder</th>\n",
       "      <th>season</th>\n",
       "      <th>strategy</th>\n",
       "      <th>control</th>\n",
       "      <th>value</th>\n",
       "    </tr>\n",
       "  </thead>\n",
       "  <tbody>\n",
       "    <tr>\n",
       "      <th>0</th>\n",
       "      <td>-12.966667</td>\n",
       "      <td>one</td>\n",
       "      <td>summer</td>\n",
       "      <td>no_control</td>\n",
       "      <td>0</td>\n",
       "      <td>0.000000</td>\n",
       "    </tr>\n",
       "    <tr>\n",
       "      <th>1</th>\n",
       "      <td>-12.950000</td>\n",
       "      <td>one</td>\n",
       "      <td>summer</td>\n",
       "      <td>no_control</td>\n",
       "      <td>0</td>\n",
       "      <td>0.000000</td>\n",
       "    </tr>\n",
       "    <tr>\n",
       "      <th>2</th>\n",
       "      <td>-12.933333</td>\n",
       "      <td>one</td>\n",
       "      <td>summer</td>\n",
       "      <td>no_control</td>\n",
       "      <td>0</td>\n",
       "      <td>0.066667</td>\n",
       "    </tr>\n",
       "    <tr>\n",
       "      <th>3</th>\n",
       "      <td>-12.916667</td>\n",
       "      <td>one</td>\n",
       "      <td>summer</td>\n",
       "      <td>no_control</td>\n",
       "      <td>0</td>\n",
       "      <td>0.066667</td>\n",
       "    </tr>\n",
       "    <tr>\n",
       "      <th>4</th>\n",
       "      <td>-12.466667</td>\n",
       "      <td>one</td>\n",
       "      <td>summer</td>\n",
       "      <td>no_control</td>\n",
       "      <td>0</td>\n",
       "      <td>0.066667</td>\n",
       "    </tr>\n",
       "  </tbody>\n",
       "</table>\n",
       "</div>"
      ],
      "text/plain": [
       "       shift feeder  season    strategy control     value\n",
       "0 -12.966667    one  summer  no_control       0  0.000000\n",
       "1 -12.950000    one  summer  no_control       0  0.000000\n",
       "2 -12.933333    one  summer  no_control       0  0.066667\n",
       "3 -12.916667    one  summer  no_control       0  0.066667\n",
       "4 -12.466667    one  summer  no_control       0  0.066667"
      ]
     },
     "execution_count": 198,
     "metadata": {},
     "output_type": "execute_result"
    }
   ],
   "source": [
    "stack = pd.melt(final.reset_index(), id_vars=['shift'])\n",
    "stack.head()"
   ]
  },
  {
   "cell_type": "code",
   "execution_count": 199,
   "metadata": {
    "collapsed": false
   },
   "outputs": [
    {
     "data": {
      "text/plain": [
       "<matplotlib.axes._subplots.AxesSubplot at 0x10fdaf550>"
      ]
     },
     "execution_count": 199,
     "metadata": {},
     "output_type": "execute_result"
    },
    {
     "data": {
      "image/png": "[encoded data removed]",
      "text/plain": [
       "<matplotlib.figure.Figure at 0x1173d7c50>"
      ]
     },
     "metadata": {},
     "output_type": "display_data"
    }
   ],
   "source": [
    "(stack.query(\"strategy in ['no_control', 'smooth']\")\n",
    "      .pivot_table(index='shift', \n",
    "                   columns=['strategy', 'control'], \n",
    "                   values='value')).plot(figsize=(10, 6))"
   ]
  },
  {
   "cell_type": "code",
   "execution_count": null,
   "metadata": {
    "collapsed": true
   },
   "outputs": [],
   "source": []
  },
  {
   "cell_type": "code",
   "execution_count": null,
   "metadata": {
    "collapsed": true
   },
   "outputs": [],
   "source": []
  },
  {
   "cell_type": "code",
   "execution_count": null,
   "metadata": {
    "collapsed": true
   },
   "outputs": [],
   "source": []
  },
  {
   "cell_type": "code",
   "execution_count": null,
   "metadata": {
    "collapsed": true
   },
   "outputs": [],
   "source": []
  },
  {
   "cell_type": "markdown",
   "metadata": {
    "collapsed": true
   },
   "source": [
    "Table, plots, summary plots: 29, 30, 31, 33, table 7"
   ]
  }
 ],
 "metadata": {
  "kernelspec": {
   "display_name": "Python 2",
   "language": "python",
   "name": "python2"
  },
  "language_info": {
   "codemirror_mode": {
    "name": "ipython",
    "version": 2
   },
   "file_extension": ".py",
   "mimetype": "text/x-python",
   "name": "python",
   "nbconvert_exporter": "python",
   "pygments_lexer": "ipython2",
   "version": "2.7.13"
  }
 },
 "nbformat": 4,
 "nbformat_minor": 2
}
